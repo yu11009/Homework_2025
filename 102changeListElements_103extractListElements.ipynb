{
  "nbformat": 4,
  "nbformat_minor": 0,
  "metadata": {
    "colab": {
      "provenance": [],
      "authorship_tag": "ABX9TyMScLPcXXdVPoMQH5ZKLsy3",
      "include_colab_link": true
    },
    "kernelspec": {
      "name": "python3",
      "display_name": "Python 3"
    },
    "language_info": {
      "name": "python"
    }
  },
  "cells": [
    {
      "cell_type": "markdown",
      "metadata": {
        "id": "view-in-github",
        "colab_type": "text"
      },
      "source": [
        "<a href=\"https://colab.research.google.com/github/yu11009/Homework_2025/blob/main/102changeListElements_103extractListElements.ipynb\" target=\"_parent\"><img src=\"https://colab.research.google.com/assets/colab-badge.svg\" alt=\"Open In Colab\"/></a>"
      ]
    },
    {
      "cell_type": "code",
      "execution_count": null,
      "metadata": {
        "colab": {
          "base_uri": "https://localhost:8080/"
        },
        "id": "XpWlih32aFoA",
        "outputId": "e0807b3a-496c-430f-bdb7-1fa783b4318c"
      },
      "outputs": [
        {
          "output_type": "stream",
          "name": "stdout",
          "text": [
            "['태양', '수성', '금성', '목성', '지구', 'Mars', '토성']\n"
          ]
        }
      ],
      "source": [
        "#102 리스트 요소 변경\n",
        "\n",
        "solarsys = ['태양', '수성', '금성', '목성', '지구', '화성', '토성']\n",
        "planet = '화성'\n",
        "pos = solarsys.index(planet)\n",
        "solarsys[pos] = 'Mars'\n",
        "\n",
        "print(solarsys)"
      ]
    },
    {
      "cell_type": "code",
      "source": [
        "#103 리스트 요소 추출\n",
        "\n",
        "solarsys = ['태양', '수성', '금성', '목성', '지구', '화성', '토성']\n",
        "rock_planets = solarsys[1:4]\n",
        "gas_planets = solarsys[4:]\n",
        "print('암석형 행성:',end=''); print(rock_planets)\n",
        "print('가스형 행성:',end=''); print(gas_planets)"
      ],
      "metadata": {
        "colab": {
          "base_uri": "https://localhost:8080/"
        },
        "id": "6ku5P13KaUlV",
        "outputId": "e144e062-94cf-48e9-c8a9-3e4bc9a2c0c4"
      },
      "execution_count": null,
      "outputs": [
        {
          "output_type": "stream",
          "name": "stdout",
          "text": [
            "암석형 행성:['수성', '금성', '목성']\n",
            "가스형 행성:['지구', '화성', '토성']\n"
          ]
        }
      ]
    }
  ]
}