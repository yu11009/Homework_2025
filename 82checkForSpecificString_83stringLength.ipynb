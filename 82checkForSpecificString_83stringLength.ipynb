{
  "nbformat": 4,
  "nbformat_minor": 0,
  "metadata": {
    "colab": {
      "provenance": [],
      "authorship_tag": "ABX9TyMRZpVPfvQNJeVoKCStYCvW",
      "include_colab_link": true
    },
    "kernelspec": {
      "name": "python3",
      "display_name": "Python 3"
    },
    "language_info": {
      "name": "python"
    }
  },
  "cells": [
    {
      "cell_type": "markdown",
      "metadata": {
        "id": "view-in-github",
        "colab_type": "text"
      },
      "source": [
        "<a href=\"https://colab.research.google.com/github/yu11009/Homework_2025/blob/main/82checkForSpecificString_83stringLength.ipynb\" target=\"_parent\"><img src=\"https://colab.research.google.com/assets/colab-badge.svg\" alt=\"Open In Colab\"/></a>"
      ]
    },
    {
      "cell_type": "code",
      "execution_count": 1,
      "metadata": {
        "colab": {
          "base_uri": "https://localhost:8080/"
        },
        "id": "lRXi94CHnYA4",
        "outputId": "265798a4-e9cd-4f7d-fae3-74525ffc92bc"
      },
      "outputs": [
        {
          "output_type": "stream",
          "name": "stdout",
          "text": [
            "문장 입력 : My name is yu1109\n",
            "입력한 문자에 is가 있습니다.\n"
          ]
        }
      ],
      "source": [
        "#082 특정 문자열 확인\n",
        "\n",
        "msg = input('문장 입력 : ')\n",
        "if 'is' in msg:\n",
        "  print('입력한 문자에 is가 있습니다.')\n",
        "else:\n",
        "  print('입력한 문자에 is가 없습니다.')"
      ]
    },
    {
      "cell_type": "code",
      "source": [
        "#083 문자열 길이\n",
        "\n",
        "msg = input('문장 입력 : ')\n",
        "msgglen = len(msg)\n",
        "print('입력한 문자의 길이는 <%d>입니다.'%msgglen)"
      ],
      "metadata": {
        "colab": {
          "base_uri": "https://localhost:8080/"
        },
        "id": "BeE07D5On-JH",
        "outputId": "79d1d795-3073-4006-a5a5-eef430bfb434"
      },
      "execution_count": 2,
      "outputs": [
        {
          "output_type": "stream",
          "name": "stdout",
          "text": [
            "문장 입력 : Hello Python\n",
            "입력한 문자의 길이는 <12>입니다.\n"
          ]
        }
      ]
    }
  ]
}