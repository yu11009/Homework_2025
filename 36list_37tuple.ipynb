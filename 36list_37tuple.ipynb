{
  "nbformat": 4,
  "nbformat_minor": 0,
  "metadata": {
    "colab": {
      "provenance": [],
      "authorship_tag": "ABX9TyPS/Zkc5wyIDSlYve+eMkyF",
      "include_colab_link": true
    },
    "kernelspec": {
      "name": "python3",
      "display_name": "Python 3"
    },
    "language_info": {
      "name": "python"
    }
  },
  "cells": [
    {
      "cell_type": "markdown",
      "metadata": {
        "id": "view-in-github",
        "colab_type": "text"
      },
      "source": [
        "<a href=\"https://colab.research.google.com/github/yu11009/Homework_2025/blob/main/36list_37tuple.ipynb\" target=\"_parent\"><img src=\"https://colab.research.google.com/assets/colab-badge.svg\" alt=\"Open In Colab\"/></a>"
      ]
    },
    {
      "cell_type": "code",
      "execution_count": 1,
      "metadata": {
        "colab": {
          "base_uri": "https://localhost:8080/"
        },
        "id": "FYYTh5Sopb9g",
        "outputId": "17d7d2bb-6a26-4bb0-cc94-e81310caa28d"
      },
      "outputs": [
        {
          "output_type": "stream",
          "name": "stdout",
          "text": [
            "[6, 2, 3, 4, 5]\n",
            "안녕하세요\n"
          ]
        }
      ],
      "source": [
        "#036 리스트\n",
        "\n",
        "list1 = [1,2,3,4,5]\n",
        "list2 = ['a','b','c']\n",
        "list3 = [1,'a','abc',[1,2,3,4,5],['a','b','c']]\n",
        "list1[0] = 6\n",
        "print(list1)\n",
        "def myfunc():\n",
        "  print('안녕하세요')\n",
        "list4 = [1,2,myfunc]\n",
        "list4[2]()"
      ]
    },
    {
      "cell_type": "code",
      "source": [
        "#037 튜플\n",
        "\n",
        "tuple1 = (1,2,3,4,5)\n",
        "tuple2 = ('a','b','c')\n",
        "tuple3 = (1,'a','abc',[1,2,3,4,5],['a','b','c'])\n",
        "\n",
        "def myfunc():\n",
        "  print('안녕하세요')\n",
        "\n",
        "tuple4 = (1,2,myfunc)\n",
        "tuple4[2]()"
      ],
      "metadata": {
        "colab": {
          "base_uri": "https://localhost:8080/"
        },
        "id": "_wOSizdGqJYH",
        "outputId": "674b176c-463e-4360-fe81-d486355b29de"
      },
      "execution_count": 3,
      "outputs": [
        {
          "output_type": "stream",
          "name": "stdout",
          "text": [
            "안녕하세요\n"
          ]
        }
      ]
    }
  ]
}