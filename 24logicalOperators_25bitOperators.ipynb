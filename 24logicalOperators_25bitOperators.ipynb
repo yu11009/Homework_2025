{
  "nbformat": 4,
  "nbformat_minor": 0,
  "metadata": {
    "colab": {
      "provenance": [],
      "authorship_tag": "ABX9TyN3RftnDdzMJEJZOlAv9luo",
      "include_colab_link": true
    },
    "kernelspec": {
      "name": "python3",
      "display_name": "Python 3"
    },
    "language_info": {
      "name": "python"
    }
  },
  "cells": [
    {
      "cell_type": "markdown",
      "metadata": {
        "id": "view-in-github",
        "colab_type": "text"
      },
      "source": [
        "<a href=\"https://colab.research.google.com/github/yu11009/Homework_2025/blob/main/24logicalOperators_25bitOperators.ipynb\" target=\"_parent\"><img src=\"https://colab.research.google.com/assets/colab-badge.svg\" alt=\"Open In Colab\"/></a>"
      ]
    },
    {
      "cell_type": "code",
      "execution_count": 1,
      "metadata": {
        "colab": {
          "base_uri": "https://localhost:8080/"
        },
        "id": "ueO_J1k7xNTx",
        "outputId": "a6055275-79ef-42c2-b476-8110f7d270ec"
      },
      "outputs": [
        {
          "output_type": "stream",
          "name": "stdout",
          "text": [
            "False\n",
            "True\n",
            "True\n",
            "False\n",
            "False\n",
            "True\n"
          ]
        }
      ],
      "source": [
        "#024 논리 연산자\n",
        "\n",
        "bool1 = True; bool2 = False; bool3 = True; bool4 = False;\n",
        "\n",
        "print(bool1 and bool2)\n",
        "print(bool1 and bool3)\n",
        "print(bool2 or bool3)\n",
        "print(bool2 or bool4)\n",
        "print(not bool1)\n",
        "print(not bool2)"
      ]
    },
    {
      "cell_type": "code",
      "source": [
        "#025 비트 연산자\n",
        "\n",
        "bit1 = 0x61\n",
        "bit2 = 0x62\n",
        "print(hex(bit1 & bit2))\n",
        "print(hex(bit1 | bit2))\n",
        "print(hex(bit1 ^ bit2))\n",
        "print(hex(bit1 << bit2))"
      ],
      "metadata": {
        "colab": {
          "base_uri": "https://localhost:8080/"
        },
        "id": "osAfWF2SxQYg",
        "outputId": "17f0be13-ed23-43da-9ef1-4a6facc86bbd"
      },
      "execution_count": 2,
      "outputs": [
        {
          "output_type": "stream",
          "name": "stdout",
          "text": [
            "0x60\n",
            "0x63\n",
            "0x3\n",
            "0x184000000000000000000000000\n"
          ]
        }
      ]
    }
  ]
}