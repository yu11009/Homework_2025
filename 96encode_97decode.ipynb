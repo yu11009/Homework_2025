{
  "nbformat": 4,
  "nbformat_minor": 0,
  "metadata": {
    "colab": {
      "provenance": [],
      "authorship_tag": "ABX9TyMj9mIVs6zIbjijKuhilH+9",
      "include_colab_link": true
    },
    "kernelspec": {
      "name": "python3",
      "display_name": "Python 3"
    },
    "language_info": {
      "name": "python"
    }
  },
  "cells": [
    {
      "cell_type": "markdown",
      "metadata": {
        "id": "view-in-github",
        "colab_type": "text"
      },
      "source": [
        "<a href=\"https://colab.research.google.com/github/yu11009/Homework_2025/blob/main/96encode_97decode.ipynb\" target=\"_parent\"><img src=\"https://colab.research.google.com/assets/colab-badge.svg\" alt=\"Open In Colab\"/></a>"
      ]
    },
    {
      "cell_type": "code",
      "execution_count": 1,
      "metadata": {
        "colab": {
          "base_uri": "https://localhost:8080/"
        },
        "id": "UI3Ve5BkQ0aV",
        "outputId": "578f9b91-da02-4cd5-9110-f3c385736540"
      },
      "outputs": [
        {
          "output_type": "stream",
          "name": "stdout",
          "text": [
            "I love python\n",
            "b'I love python'\n",
            "True\n",
            "False\n"
          ]
        }
      ],
      "source": [
        "#096 바이트 객체\n",
        "\n",
        "u_txt = 'I love python'\n",
        "b_txt = u_txt.encode()\n",
        "print(u_txt)\n",
        "print(b_txt)\n",
        "\n",
        "ret1 = 'I' == u_txt[0]\n",
        "ret2 = 'I' == b_txt[0]\n",
        "print(ret1)\n",
        "print(ret2)"
      ]
    },
    {
      "cell_type": "code",
      "source": [
        "#097 바이트 객체 문자열로 바꾸기\n",
        "\n",
        "b_txt = b'A person who never made a mistake never tied anything new.'\n",
        "u_txt = b_txt.decode()\n",
        "print(u_txt)"
      ],
      "metadata": {
        "colab": {
          "base_uri": "https://localhost:8080/"
        },
        "id": "srWhtYo_Q-YA",
        "outputId": "83700003-0ced-4298-cf4f-2f5672a1c797"
      },
      "execution_count": 2,
      "outputs": [
        {
          "output_type": "stream",
          "name": "stdout",
          "text": [
            "A person who never made a mistake never tied anything new.\n"
          ]
        }
      ]
    }
  ]
}