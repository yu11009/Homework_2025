{
  "nbformat": 4,
  "nbformat_minor": 0,
  "metadata": {
    "colab": {
      "provenance": [],
      "authorship_tag": "ABX9TyPvMLskuWvQ9wg+fJyuVQto",
      "include_colab_link": true
    },
    "kernelspec": {
      "name": "python3",
      "display_name": "Python 3"
    },
    "language_info": {
      "name": "python"
    }
  },
  "cells": [
    {
      "cell_type": "markdown",
      "metadata": {
        "id": "view-in-github",
        "colab_type": "text"
      },
      "source": [
        "<a href=\"https://colab.research.google.com/github/yu11009/Homework_2025/blob/main/64remain_65decimalTobinary.ipynb\" target=\"_parent\"><img src=\"https://colab.research.google.com/assets/colab-badge.svg\" alt=\"Open In Colab\"/></a>"
      ]
    },
    {
      "cell_type": "code",
      "execution_count": 2,
      "metadata": {
        "colab": {
          "base_uri": "https://localhost:8080/"
        },
        "id": "VFgYuP41fhof",
        "outputId": "90b61a10-b203-43d3-9661-a95b22f7ffc4"
      },
      "outputs": [
        {
          "output_type": "stream",
          "name": "stdout",
          "text": [
            "9\n"
          ]
        }
      ],
      "source": [
        "#064 나머지\n",
        "\n",
        "a = 1113\n",
        "b = 23\n",
        "ret = a%b\n",
        "print(ret)"
      ]
    },
    {
      "cell_type": "code",
      "source": [
        "#065 10진수를 2진수로 변환\n",
        "\n",
        "h1 = bin(97)\n",
        "h2 = bin(98)\n",
        "ret1 = h1 + h2\n",
        "print(ret1)\n",
        "a = int(h1, 16)\n",
        "b = int(h2, 16)\n",
        "ret2 = a + b\n",
        "print(bin(ret2))"
      ],
      "metadata": {
        "colab": {
          "base_uri": "https://localhost:8080/"
        },
        "id": "FWMU1-23frtu",
        "outputId": "125c4c0b-738f-4b5e-fc25-a9f70100dbfe"
      },
      "execution_count": 4,
      "outputs": [
        {
          "output_type": "stream",
          "name": "stdout",
          "text": [
            "0b11000010b1100010\n",
            "0b101100010001000000000000000010001\n"
          ]
        }
      ]
    }
  ]
}