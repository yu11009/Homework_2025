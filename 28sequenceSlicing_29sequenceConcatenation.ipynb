{
  "nbformat": 4,
  "nbformat_minor": 0,
  "metadata": {
    "colab": {
      "provenance": [],
      "authorship_tag": "ABX9TyN6PAYTl6KAwsFWYJG9/Sfc",
      "include_colab_link": true
    },
    "kernelspec": {
      "name": "python3",
      "display_name": "Python 3"
    },
    "language_info": {
      "name": "python"
    }
  },
  "cells": [
    {
      "cell_type": "markdown",
      "metadata": {
        "id": "view-in-github",
        "colab_type": "text"
      },
      "source": [
        "<a href=\"https://colab.research.google.com/github/yu11009/Homework_2025/blob/main/28sequenceSlicing_29sequenceConcatenation.ipynb\" target=\"_parent\"><img src=\"https://colab.research.google.com/assets/colab-badge.svg\" alt=\"Open In Colab\"/></a>"
      ]
    },
    {
      "cell_type": "code",
      "execution_count": 2,
      "metadata": {
        "colab": {
          "base_uri": "https://localhost:8080/"
        },
        "id": "BSNrA6DPON3v",
        "outputId": "5a81b2d3-0f33-4948-f29c-f778f28f531b"
      },
      "outputs": [
        {
          "output_type": "stream",
          "name": "stdout",
          "text": [
            "is m\n",
            "Time is\n",
            "oney!\n",
            "Time is mon\n",
            "ey!\n",
            "Time is money!\n",
            "Tm smny\n"
          ]
        }
      ],
      "source": [
        "#028 시퀀스 자료 슬라이싱\n",
        "\n",
        "strdata = 'Time is money!'\n",
        "#텍스트의 출력 범위를 지정\n",
        "print(strdata[5:9])\n",
        "print(strdata[:7])\n",
        "print(strdata[9:])\n",
        "print(strdata[:-3])\n",
        "print(strdata[-3:])\n",
        "print(strdata[:])\n",
        "print(strdata[::2])"
      ]
    },
    {
      "cell_type": "code",
      "source": [
        "#029 시퀀스 연결\n",
        "\n",
        "strdata1 = 'I love'\n",
        "strdata2 = 'Python'\n",
        "strdata3 = 'you'\n",
        "\n",
        "listdata1 = [1,2,3]\n",
        "listdata2 = [4,5,6]\n",
        "\n",
        "print(strdata1 + strdata2)\n",
        "print(strdata1 + strdata3)\n",
        "print(listdata1 + listdata2)"
      ],
      "metadata": {
        "colab": {
          "base_uri": "https://localhost:8080/"
        },
        "id": "pzGdmwXuOOge",
        "outputId": "d7ba12a5-9a11-4417-d391-c359ed5d9dbd"
      },
      "execution_count": 4,
      "outputs": [
        {
          "output_type": "stream",
          "name": "stdout",
          "text": [
            "I lovePython\n",
            "I loveyou\n",
            "[1, 2, 3, 4, 5, 6]\n"
          ]
        }
      ]
    }
  ]
}