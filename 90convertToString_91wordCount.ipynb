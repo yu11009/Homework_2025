{
  "nbformat": 4,
  "nbformat_minor": 0,
  "metadata": {
    "colab": {
      "provenance": [],
      "authorship_tag": "ABX9TyM7tlhL9ZDHtUFX1hbFj/mG",
      "include_colab_link": true
    },
    "kernelspec": {
      "name": "python3",
      "display_name": "Python 3"
    },
    "language_info": {
      "name": "python"
    }
  },
  "cells": [
    {
      "cell_type": "markdown",
      "metadata": {
        "id": "view-in-github",
        "colab_type": "text"
      },
      "source": [
        "<a href=\"https://colab.research.google.com/github/yu11009/Homework_2025/blob/main/90convertToString_91wordCount.ipynb\" target=\"_parent\"><img src=\"https://colab.research.google.com/assets/colab-badge.svg\" alt=\"Open In Colab\"/></a>"
      ]
    },
    {
      "cell_type": "code",
      "execution_count": 1,
      "metadata": {
        "colab": {
          "base_uri": "https://localhost:8080/"
        },
        "id": "6CzytXZYjPmW",
        "outputId": "00ff516a-8c24-4f70-d087-3754e4510d30"
      },
      "outputs": [
        {
          "output_type": "stream",
          "name": "stdout",
          "text": [
            "1234\n",
            "3.14\n"
          ]
        }
      ],
      "source": [
        "#090 문자열로 변환\n",
        "\n",
        "num1 = 1234\n",
        "num2 = 3.14\n",
        "\n",
        "ns1 = str(num1)\n",
        "ns2 = str(num2)\n",
        "\n",
        "print(ns1)\n",
        "print(ns2)"
      ]
    },
    {
      "cell_type": "code",
      "source": [
        "#091 문자 개수\n",
        "\n",
        "txt = 'A lot of things occur each day, every day.'\n",
        "count1 = txt.count('o')\n",
        "count2 = txt.count('day')\n",
        "count3 = txt.count(' ')\n",
        "print(count1)\n",
        "print(count2)\n",
        "print(count3)"
      ],
      "metadata": {
        "colab": {
          "base_uri": "https://localhost:8080/"
        },
        "id": "LEVdrSwMkXQl",
        "outputId": "80cff147-7f0d-48bd-f136-2e92aabe2a36"
      },
      "execution_count": 2,
      "outputs": [
        {
          "output_type": "stream",
          "name": "stdout",
          "text": [
            "3\n",
            "2\n",
            "8\n"
          ]
        }
      ]
    }
  ]
}