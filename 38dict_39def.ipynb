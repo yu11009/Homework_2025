{
  "nbformat": 4,
  "nbformat_minor": 0,
  "metadata": {
    "colab": {
      "provenance": [],
      "authorship_tag": "ABX9TyMtBMNVVcVfm26p0zsNiGta",
      "include_colab_link": true
    },
    "kernelspec": {
      "name": "python3",
      "display_name": "Python 3"
    },
    "language_info": {
      "name": "python"
    }
  },
  "cells": [
    {
      "cell_type": "markdown",
      "metadata": {
        "id": "view-in-github",
        "colab_type": "text"
      },
      "source": [
        "<a href=\"https://colab.research.google.com/github/yu11009/Homework_2025/blob/main/38dict_39def.ipynb\" target=\"_parent\"><img src=\"https://colab.research.google.com/assets/colab-badge.svg\" alt=\"Open In Colab\"/></a>"
      ]
    },
    {
      "cell_type": "code",
      "execution_count": 2,
      "metadata": {
        "colab": {
          "base_uri": "https://localhost:8080/"
        },
        "id": "fPj4XjI4FZcg",
        "outputId": "b8a92c73-d3fb-4fb6-8b0d-96c3981dcb92"
      },
      "outputs": [
        {
          "output_type": "stream",
          "name": "stdout",
          "text": [
            "1\n",
            "{'a': 1, 'b': 2, 'c': 3, 'd': 4}\n",
            "4\n"
          ]
        }
      ],
      "source": [
        "#038 사전\n",
        "\n",
        "dict1 = {'a':1,'b':2,'c':3}\n",
        "print(dict1['a'])\n",
        "dict1['d'] = 4 #'d':4라는 값이 추가 됨\n",
        "print(dict1)\n",
        "print(len(dict1))"
      ]
    },
    {
      "cell_type": "code",
      "source": [
        "#039 함수\n",
        "\n",
        "#함수는 출력보다 가장 먼저 선언 해야함\n",
        "def add_num(n1, n2):\n",
        "  ret = n1+n2\n",
        "  return ret\n",
        "\n",
        "def add_txt(t1, t2):\n",
        "  print(t1+t2)\n",
        "\n",
        "ans = add_num(10, 15)\n",
        "print(ans)\n",
        "text1 = 'Hello'\n",
        "text2 = 'World!'\n",
        "add_txt(text1, text2)"
      ],
      "metadata": {
        "colab": {
          "base_uri": "https://localhost:8080/"
        },
        "id": "kJF5EAv6GGWf",
        "outputId": "09e41e91-d4fa-4ed0-da16-4e75cf0e0bcf"
      },
      "execution_count": 3,
      "outputs": [
        {
          "output_type": "stream",
          "name": "stdout",
          "text": [
            "25\n",
            "HelloWorld!\n"
          ]
        }
      ]
    }
  ]
}