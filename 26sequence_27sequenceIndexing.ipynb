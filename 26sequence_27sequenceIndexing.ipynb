{
  "nbformat": 4,
  "nbformat_minor": 0,
  "metadata": {
    "colab": {
      "provenance": [],
      "authorship_tag": "ABX9TyM9787vHtw9DnpQhihg8mCl",
      "include_colab_link": true
    },
    "kernelspec": {
      "name": "python3",
      "display_name": "Python 3"
    },
    "language_info": {
      "name": "python"
    }
  },
  "cells": [
    {
      "cell_type": "markdown",
      "metadata": {
        "id": "view-in-github",
        "colab_type": "text"
      },
      "source": [
        "<a href=\"https://colab.research.google.com/github/yu11009/Homework_2025/blob/main/26sequence_27sequenceIndexing.ipynb\" target=\"_parent\"><img src=\"https://colab.research.google.com/assets/colab-badge.svg\" alt=\"Open In Colab\"/></a>"
      ]
    },
    {
      "cell_type": "code",
      "execution_count": 3,
      "metadata": {
        "colab": {
          "base_uri": "https://localhost:8080/"
        },
        "id": "hkbTN8OGM4R5",
        "outputId": "48ced59b-0960-4989-992e-08c854be1151"
      },
      "outputs": [
        {
          "output_type": "stream",
          "name": "stdout",
          "text": [
            "a\n",
            "e\n",
            "1\n",
            "안녕\n",
            "3\n",
            "100\n"
          ]
        }
      ],
      "source": [
        "#026 시퀀스 자료형\n",
        "\n",
        "strdata = 'abcde' #문자열은 시퀀스 자료형\n",
        "listdata = [1, [2, 3], '안녕'] #리스트는 시퀀스 자료형\n",
        "tupledata = (100, 200, 300) #튜플은 시퀀스 자료형\n",
        "\n",
        "print(strdata[0])\n",
        "print(strdata[-1])\n",
        "print(listdata[0])\n",
        "print(listdata[-1])\n",
        "print(listdata[1][1])\n",
        "print(tupledata[0])"
      ]
    },
    {
      "cell_type": "code",
      "source": [
        "#027 시퀀스 자료 인덱싱\n",
        "\n",
        "strdata = 'Time is money!!'\n",
        "listdata = [1, 2, [1, 2, 3]]\n",
        "print(strdata[5])\n",
        "print(strdata[-2])\n",
        "print(strdata[0])\n",
        "print(strdata[-1])\n",
        "print(strdata[2][-1])"
      ],
      "metadata": {
        "colab": {
          "base_uri": "https://localhost:8080/"
        },
        "id": "BknzVJPbM9ie",
        "outputId": "c8236ca0-d1c6-4bab-974b-65b093150f97"
      },
      "execution_count": 2,
      "outputs": [
        {
          "output_type": "stream",
          "name": "stdout",
          "text": [
            "i\n",
            "!\n",
            "T\n",
            "!\n",
            "m\n"
          ]
        }
      ]
    }
  ]
}