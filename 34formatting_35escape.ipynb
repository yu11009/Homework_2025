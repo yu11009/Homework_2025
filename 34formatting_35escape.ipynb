{
  "nbformat": 4,
  "nbformat_minor": 0,
  "metadata": {
    "colab": {
      "provenance": [],
      "authorship_tag": "ABX9TyNbFXOJ2IBN82odi+CDPDLy",
      "include_colab_link": true
    },
    "kernelspec": {
      "name": "python3",
      "display_name": "Python 3"
    },
    "language_info": {
      "name": "python"
    }
  },
  "cells": [
    {
      "cell_type": "markdown",
      "metadata": {
        "id": "view-in-github",
        "colab_type": "text"
      },
      "source": [
        "<a href=\"https://colab.research.google.com/github/yu11009/Homework_2025/blob/main/34formatting_35escape.ipynb\" target=\"_parent\"><img src=\"https://colab.research.google.com/assets/colab-badge.svg\" alt=\"Open In Colab\"/></a>"
      ]
    },
    {
      "cell_type": "code",
      "execution_count": 2,
      "metadata": {
        "colab": {
          "base_uri": "https://localhost:8080/"
        },
        "id": "KDxxY5ItmxGW",
        "outputId": "4c261bc1-49c1-40d0-ca28-f86a08befc15"
      },
      "outputs": [
        {
          "output_type": "stream",
          "name": "stdout",
          "text": [
            "나는 자바보다 파이썬에 더 익숙합니다.\n",
            "파이썬은 자바보다 5배 더 쉽습니다.\n",
            "5 + 10 = 15\n",
            "자바와 파이썬는 프로그래밍 언어이다. 5와 10는 숫자다\n"
          ]
        }
      ],
      "source": [
        "#034 문자열 포맷팅\n",
        "\n",
        "txt1 = '자바'\n",
        "txt2 = '파이썬'\n",
        "num1 = '5'\n",
        "num2 = '10'\n",
        "print('나는 %s보다 %s에 더 익숙합니다.' %(txt1, txt2))\n",
        "print('%s은 %s보다 %d배 더 쉽습니다.' %(txt2, txt1, int(num1)))\n",
        "print('%d + %d = %d' %(int(num1), int(num2), int(num1)+int(num2)))\n",
        "print('%s와 %s는 프로그래밍 언어이다. %d와 %d는 숫자다' %(txt1, txt2, int(num1), int(num2)))"
      ]
    },
    {
      "cell_type": "code",
      "source": [
        "#035 이스케이프 문자\n",
        "\n",
        "print('나는 파이썬을 사랑합니다.\\n파이썬은 자바보다 훨씬 쉽습니다.')\n",
        "print('Name: John Smith\\tSex: Male\\tAge: 22')\n",
        "print('이 문장은 화면폭에 비해 너무 길어 보기가 힘듭니다.\\\n",
        "그래서 \\\\Enter키를 이용해 문장을 다음줄과 연속되도록 했습니다.')\n",
        "print('작은따옴표(\\')와 큰 따옴표(\")는 문자열을 정의할 때 사용합니다.')"
      ],
      "metadata": {
        "colab": {
          "base_uri": "https://localhost:8080/"
        },
        "id": "eZzJhXEEoP87",
        "outputId": "4c09f019-aa08-4d64-98e7-303107e9152e"
      },
      "execution_count": 3,
      "outputs": [
        {
          "output_type": "stream",
          "name": "stdout",
          "text": [
            "나는 파이썬을 사랑합니다.\n",
            "파이썬은 자바보다 훨씬 쉽습니다.\n",
            "Name: John Smith\tSex: Male\tAge: 22\n",
            "이 문장은 화면폭에 비해 너무 길어 보기가 힘듭니다.그래서 \\Enter키를 이용해 문장을 다음줄과 연속되도록 했습니다.\n",
            "작은따옴표(')와 큰 따옴표(\")는 문자열을 정의할 때 사용합니다.\n"
          ]
        }
      ]
    }
  ]
}