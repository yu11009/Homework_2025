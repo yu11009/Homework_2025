{
  "nbformat": 4,
  "nbformat_minor": 0,
  "metadata": {
    "colab": {
      "provenance": [],
      "include_colab_link": true
    },
    "kernelspec": {
      "name": "python3",
      "display_name": "Python 3"
    },
    "language_info": {
      "name": "python"
    }
  },
  "cells": [
    {
      "cell_type": "markdown",
      "metadata": {
        "id": "view-in-github",
        "colab_type": "text"
      },
      "source": [
        "<a href=\"https://colab.research.google.com/github/yu11009/Homework_2025/blob/main/60input_61data.ipynb\" target=\"_parent\"><img src=\"https://colab.research.google.com/assets/colab-badge.svg\" alt=\"Open In Colab\"/></a>"
      ]
    },
    {
      "cell_type": "code",
      "execution_count": null,
      "metadata": {
        "colab": {
          "base_uri": "https://localhost:8080/"
        },
        "id": "-50TVzt_pJJy",
        "outputId": "c65677de-909f-4c78-ce44-92103d573a9e"
      },
      "outputs": [
        {
          "output_type": "stream",
          "name": "stdout",
          "text": [
            "입력 : test\n",
            "입력 값은 <test>\n"
          ]
        }
      ],
      "source": [
        "#060 입력\n",
        "\n",
        "k = input('입력 : ')\n",
        "print('입력 값은 <'+ k +'>')"
      ]
    },
    {
      "cell_type": "code",
      "source": [
        "#061 자료형\n",
        "\n",
        "numdata = 57\n",
        "strdata = '파이썬'\n",
        "listdata = [1,2,3]\n",
        "dictdata = {'a':1, 'b':2}\n",
        "\n",
        "\n",
        "def func():\n",
        "  print('안녕하세요')\n",
        "\n",
        "print(type(numdata))\n",
        "print(type(strdata))\n",
        "print(type(listdata))\n",
        "print(type(dictdata))\n",
        "print(type(func))"
      ],
      "metadata": {
        "colab": {
          "base_uri": "https://localhost:8080/"
        },
        "id": "sxDQriFvpdT0",
        "outputId": "7105ae11-9e37-407e-c74e-a8081a52f516"
      },
      "execution_count": null,
      "outputs": [
        {
          "output_type": "stream",
          "name": "stdout",
          "text": [
            "<class 'int'>\n",
            "<class 'str'>\n",
            "<class 'list'>\n",
            "<class 'dict'>\n",
            "<class 'function'>\n"
          ]
        }
      ]
    }
  ]
}