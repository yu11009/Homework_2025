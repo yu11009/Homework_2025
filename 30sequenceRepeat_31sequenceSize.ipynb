{
  "nbformat": 4,
  "nbformat_minor": 0,
  "metadata": {
    "colab": {
      "provenance": [],
      "authorship_tag": "ABX9TyMNXdSYCakq1gVEcKb7hHyZ",
      "include_colab_link": true
    },
    "kernelspec": {
      "name": "python3",
      "display_name": "Python 3"
    },
    "language_info": {
      "name": "python"
    }
  },
  "cells": [
    {
      "cell_type": "markdown",
      "metadata": {
        "id": "view-in-github",
        "colab_type": "text"
      },
      "source": [
        "<a href=\"https://colab.research.google.com/github/yu11009/Homework_2025/blob/main/30sequenceRepeat_31sequenceSize.ipynb\" target=\"_parent\"><img src=\"https://colab.research.google.com/assets/colab-badge.svg\" alt=\"Open In Colab\"/></a>"
      ]
    },
    {
      "cell_type": "code",
      "execution_count": 1,
      "metadata": {
        "colab": {
          "base_uri": "https://localhost:8080/"
        },
        "id": "YcSOON6aQxm6",
        "outputId": "c4e34a66-ae78-4edd-93da-5168e3a89417"
      },
      "outputs": [
        {
          "output_type": "stream",
          "name": "stdout",
          "text": [
            "빅뱅이 부르는 뱅~뱅~뱅~\n"
          ]
        }
      ],
      "source": [
        "#030 시퀀스 자료 반복\n",
        "\n",
        "artist = '빅뱅'\n",
        "sing = '뱅~'\n",
        "disp = artist + '이 부르는 ' + sing * 3\n",
        "print(disp)"
      ]
    },
    {
      "cell_type": "code",
      "source": [
        "#031 시퀀스 자료 크기\n",
        "\n",
        "strdata1 = 'I love python'\n",
        "strdata2 = '나는 파이썬을 사랑합니다'\n",
        "listdata = ['a', 'b', 'c', 1, 2, 3]\n",
        "print(len(strdata1))\n",
        "print(len(strdata2))\n",
        "print(len(listdata))"
      ],
      "metadata": {
        "colab": {
          "base_uri": "https://localhost:8080/"
        },
        "id": "-iC721o0Q2eC",
        "outputId": "f6e480b5-c606-41d5-fd00-db75127b42d1"
      },
      "execution_count": 2,
      "outputs": [
        {
          "output_type": "stream",
          "name": "stdout",
          "text": [
            "13\n",
            "13\n",
            "6\n"
          ]
        }
      ]
    }
  ]
}