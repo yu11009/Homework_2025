{
  "nbformat": 4,
  "nbformat_minor": 0,
  "metadata": {
    "colab": {
      "provenance": [],
      "authorship_tag": "ABX9TyNN/FUH7X1ssnFj9CnTrtLL",
      "include_colab_link": true
    },
    "kernelspec": {
      "name": "python3",
      "display_name": "Python 3"
    },
    "language_info": {
      "name": "python"
    }
  },
  "cells": [
    {
      "cell_type": "markdown",
      "metadata": {
        "id": "view-in-github",
        "colab_type": "text"
      },
      "source": [
        "<a href=\"https://colab.research.google.com/github/yu11009/Homework_2025/blob/main/88removeSpaces_89numericDataConversion.ipynb\" target=\"_parent\"><img src=\"https://colab.research.google.com/assets/colab-badge.svg\" alt=\"Open In Colab\"/></a>"
      ]
    },
    {
      "cell_type": "code",
      "execution_count": 1,
      "metadata": {
        "colab": {
          "base_uri": "https://localhost:8080/"
        },
        "id": "w8sag4v06ClD",
        "outputId": "391a2633-5ac1-4165-8fee-ddd7ed8f618b"
      },
      "outputs": [
        {
          "output_type": "stream",
          "name": "stdout",
          "text": [
            "양쪽에 공백 있음 \n",
            " 양쪽에 공백 있음\n",
            "양쪽에 공백 있음\n"
          ]
        }
      ],
      "source": [
        "#088 좌우 공백 제거\n",
        "\n",
        "txt = ' 양쪽에 공백 있음 '\n",
        "ret1 = txt.lstrip()\n",
        "ret2 = txt.rstrip()\n",
        "ret3 = txt.strip()\n",
        "print(ret1)\n",
        "print(ret2)\n",
        "print(ret3)"
      ]
    },
    {
      "cell_type": "code",
      "source": [
        "#089 수치형 자료 변환\n",
        "\n",
        "numstr = input('숫자를 입력하세요 : ')\n",
        "try:\n",
        "  num = int(numstr)\n",
        "  print('입력한 숫자는 정수<%d>입니다.'%num)\n",
        "except:\n",
        "  try:\n",
        "    num = float(numstr)\n",
        "    print('입력한 숫자는 실수<%f>입니다.'%num)\n",
        "  except:\n",
        "    print('숫자를 입력하세요')"
      ],
      "metadata": {
        "colab": {
          "base_uri": "https://localhost:8080/"
        },
        "id": "ms0WjB_n6R-e",
        "outputId": "1f28f5fe-9551-4007-8e97-59a3dc3ea847"
      },
      "execution_count": 2,
      "outputs": [
        {
          "output_type": "stream",
          "name": "stdout",
          "text": [
            "숫자를 입력하세요 : 231\n",
            "입력한 숫자는 정수<231>입니다.\n"
          ]
        }
      ]
    }
  ]
}