{
  "nbformat": 4,
  "nbformat_minor": 0,
  "metadata": {
    "colab": {
      "provenance": [],
      "authorship_tag": "ABX9TyOfgroS/U/my5XlWkpdJOKh",
      "include_colab_link": true
    },
    "kernelspec": {
      "name": "python3",
      "display_name": "Python 3"
    },
    "language_info": {
      "name": "python"
    }
  },
  "cells": [
    {
      "cell_type": "markdown",
      "metadata": {
        "id": "view-in-github",
        "colab_type": "text"
      },
      "source": [
        "<a href=\"https://colab.research.google.com/github/yu11009/Homework_2025/blob/main/50classMembersAndInstanceMembers_51classMethod.ipynb\" target=\"_parent\"><img src=\"https://colab.research.google.com/assets/colab-badge.svg\" alt=\"Open In Colab\"/></a>"
      ]
    },
    {
      "cell_type": "code",
      "execution_count": null,
      "metadata": {
        "colab": {
          "base_uri": "https://localhost:8080/"
        },
        "id": "Q-pf8HnwimaL",
        "outputId": "26cda622-9b1d-42a4-ec5b-8ff34025318e"
      },
      "outputs": [
        {
          "output_type": "stream",
          "name": "stdout",
          "text": [
            "안녕하세요!!\n",
            "안녕\n",
            "안녕하세요!!\n"
          ]
        }
      ],
      "source": [
        "#050 클래스 멤버와 인스턴스 멤버\n",
        "\n",
        "class MyClass:\n",
        "  var = '안녕하세요!!'\n",
        "  def sayHello(self):\n",
        "    param1 = '안녕'\n",
        "    self.param2 = '하이'\n",
        "    print(param1)\n",
        "    print(self.var)\n",
        "\n",
        "\n",
        "obj = MyClass()\n",
        "print(obj.var)\n",
        "obj.sayHello()"
      ]
    },
    {
      "cell_type": "code",
      "source": [
        "#051 클래스 메소드\n",
        "\n",
        "class MyClass:\n",
        "  def sayHello(self):\n",
        "    print('안녕하세요')\n",
        "\n",
        "\n",
        "  def sayBye(self, name):\n",
        "    print('%s! 다음에 보자!' %name)\n",
        "\n",
        "obj = MyClass()\n",
        "obj.sayHello()\n",
        "obj.sayBye('철수')"
      ],
      "metadata": {
        "colab": {
          "base_uri": "https://localhost:8080/"
        },
        "id": "w0P2U2CvjXO_",
        "outputId": "866a6ab8-b6a4-40ea-fb2a-a795f698df83"
      },
      "execution_count": null,
      "outputs": [
        {
          "output_type": "stream",
          "name": "stdout",
          "text": [
            "안녕하세요\n",
            "철수! 다음에 보자!\n"
          ]
        }
      ]
    }
  ]
}