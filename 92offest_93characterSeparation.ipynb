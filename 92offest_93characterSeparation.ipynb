{
  "nbformat": 4,
  "nbformat_minor": 0,
  "metadata": {
    "colab": {
      "provenance": [],
      "authorship_tag": "ABX9TyOJ1zo0fWsOo3Cyn4A6Skwp",
      "include_colab_link": true
    },
    "kernelspec": {
      "name": "python3",
      "display_name": "Python 3"
    },
    "language_info": {
      "name": "python"
    }
  },
  "cells": [
    {
      "cell_type": "markdown",
      "metadata": {
        "id": "view-in-github",
        "colab_type": "text"
      },
      "source": [
        "<a href=\"https://colab.research.google.com/github/yu11009/Homework_2025/blob/main/92offest_93characterSeparation.ipynb\" target=\"_parent\"><img src=\"https://colab.research.google.com/assets/colab-badge.svg\" alt=\"Open In Colab\"/></a>"
      ]
    },
    {
      "cell_type": "code",
      "execution_count": 1,
      "metadata": {
        "colab": {
          "base_uri": "https://localhost:8080/"
        },
        "id": "uyCeSSWJbhgD",
        "outputId": "abb4f8f3-89b8-4cd7-bed3-50c09e924d7b"
      },
      "outputs": [
        {
          "output_type": "stream",
          "name": "stdout",
          "text": [
            "22\n",
            "27\n",
            "38\n"
          ]
        }
      ],
      "source": [
        "#092 특정 문자 위치 찾기\n",
        "\n",
        "txt = 'A lot od things occur each day, every day.'\n",
        "offest1 = txt.find('e')\n",
        "offest2 = txt.find('day')\n",
        "offest3 = txt.find('day', 30)\n",
        "print(offest1)\n",
        "print(offest2)\n",
        "print(offest3)"
      ]
    },
    {
      "cell_type": "code",
      "source": [
        "#093 특정 문자로 분리\n",
        "\n",
        "url = 'http://www.naver.com/news/today=20160831'\n",
        "log1 = 'name:홍길동 age:17 sex:남자 nation:조선'\n",
        "ret1 = url.split('/')\n",
        "print(ret1)\n",
        "ret2 = log1.split()\n",
        "for data in ret2:\n",
        "    d1, d2 = data.split(':')\n",
        "    print('%s -> %s' % (d1, d2))"
      ],
      "metadata": {
        "colab": {
          "base_uri": "https://localhost:8080/"
        },
        "id": "7I0zbAgWbn7I",
        "outputId": "6c16cb02-5e5f-40e0-c299-f86e32c40881"
      },
      "execution_count": 2,
      "outputs": [
        {
          "output_type": "stream",
          "name": "stdout",
          "text": [
            "['http:', '', 'www.naver.com', 'news', 'today=20160831']\n",
            "name -> 홍길동\n",
            "age -> 17\n",
            "sex -> 남자\n",
            "nation -> 조선\n"
          ]
        }
      ]
    }
  ]
}