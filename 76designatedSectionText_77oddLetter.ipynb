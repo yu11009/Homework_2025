{
  "nbformat": 4,
  "nbformat_minor": 0,
  "metadata": {
    "colab": {
      "provenance": [],
      "authorship_tag": "ABX9TyMjIYCbF1WMAdLvqSkXNfrd",
      "include_colab_link": true
    },
    "kernelspec": {
      "name": "python3",
      "display_name": "Python 3"
    },
    "language_info": {
      "name": "python"
    }
  },
  "cells": [
    {
      "cell_type": "markdown",
      "metadata": {
        "id": "view-in-github",
        "colab_type": "text"
      },
      "source": [
        "<a href=\"https://colab.research.google.com/github/yu11009/Homework_2025/blob/main/76designatedSectionText_77oddLetter.ipynb\" target=\"_parent\"><img src=\"https://colab.research.google.com/assets/colab-badge.svg\" alt=\"Open In Colab\"/></a>"
      ]
    },
    {
      "cell_type": "code",
      "execution_count": 1,
      "metadata": {
        "colab": {
          "base_uri": "https://localhost:8080/"
        },
        "id": "AA6J7e69sXIZ",
        "outputId": "85fa719c-d4d0-478b-d914-26aee9ba170b"
      },
      "outputs": [
        {
          "output_type": "stream",
          "name": "stdout",
          "text": [
            "ll\n",
            "Hello \n",
            "파이썬\n"
          ]
        }
      ],
      "source": [
        "#076 지정 구간의 문자\n",
        "\n",
        "txt1 = 'Hello Pythone'\n",
        "txt2 = '안녕 파이썬'\n",
        "print(txt1[2:4])\n",
        "print(txt1[:6])\n",
        "print(txt2[-3:])"
      ]
    },
    {
      "cell_type": "code",
      "source": [
        "#077 홀수 번째 문자\n",
        "\n",
        "txt = 'aAbBcCdDeEfF'\n",
        "ret = txt[::2]\n",
        "print(ret)"
      ],
      "metadata": {
        "colab": {
          "base_uri": "https://localhost:8080/"
        },
        "id": "LcXISn2PssAB",
        "outputId": "b9cfb231-cfde-4cd1-fc4c-6def38141418"
      },
      "execution_count": 2,
      "outputs": [
        {
          "output_type": "stream",
          "name": "stdout",
          "text": [
            "abcdef\n"
          ]
        }
      ]
    }
  ]
}