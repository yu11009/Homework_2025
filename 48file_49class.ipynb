{
  "nbformat": 4,
  "nbformat_minor": 0,
  "metadata": {
    "colab": {
      "provenance": [],
      "authorship_tag": "ABX9TyNazxWJCbKGocm11FehrOw+",
      "include_colab_link": true
    },
    "kernelspec": {
      "name": "python3",
      "display_name": "Python 3"
    },
    "language_info": {
      "name": "python"
    }
  },
  "cells": [
    {
      "cell_type": "markdown",
      "metadata": {
        "id": "view-in-github",
        "colab_type": "text"
      },
      "source": [
        "<a href=\"https://colab.research.google.com/github/yu11009/Homework_2025/blob/main/48file_49class.ipynb\" target=\"_parent\"><img src=\"https://colab.research.google.com/assets/colab-badge.svg\" alt=\"Open In Colab\"/></a>"
      ]
    },
    {
      "cell_type": "code",
      "execution_count": null,
      "metadata": {
        "id": "4E57jzoKW6RB"
      },
      "outputs": [],
      "source": [
        "#048 파일 열고 닫기\n",
        "\n",
        "#open(파일이름, 모드)\n",
        "f1 = open('text.txt', 'r') #r: 텍스트 모드로 읽기\n",
        "f2 = open('d:/myimages/mypicturel.jpg', 'rb') #rb: 바이너리 모드로 읽기\n",
        "\n",
        "#파일 닫기\n",
        "f1.close()\n",
        "f2.close()"
      ]
    },
    {
      "cell_type": "code",
      "source": [
        "#049 클래스\n",
        "\n",
        "class MyClass:\n",
        "  var = '안녕하세요'\n",
        "  def sayHello(self):\n",
        "    print(self.var)\n",
        "\n",
        "obj = MyClass()\n",
        "print(obj.var)\n",
        "obj.sayHello()"
      ],
      "metadata": {
        "colab": {
          "base_uri": "https://localhost:8080/"
        },
        "id": "0P0SY85JXiPn",
        "outputId": "155b2a8b-8784-4dfa-f134-3f3a6b7fde8d"
      },
      "execution_count": 1,
      "outputs": [
        {
          "output_type": "stream",
          "name": "stdout",
          "text": [
            "안녕하세요\n",
            "안녕하세요\n"
          ]
        }
      ]
    }
  ]
}