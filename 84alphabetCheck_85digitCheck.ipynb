{
  "nbformat": 4,
  "nbformat_minor": 0,
  "metadata": {
    "colab": {
      "provenance": [],
      "authorship_tag": "ABX9TyPjthDfRR6faRwUxqC7KQii",
      "include_colab_link": true
    },
    "kernelspec": {
      "name": "python3",
      "display_name": "Python 3"
    },
    "language_info": {
      "name": "python"
    }
  },
  "cells": [
    {
      "cell_type": "markdown",
      "metadata": {
        "id": "view-in-github",
        "colab_type": "text"
      },
      "source": [
        "<a href=\"https://colab.research.google.com/github/yu11009/Homework_2025/blob/main/84alphabetCheck_85digitCheck.ipynb\" target=\"_parent\"><img src=\"https://colab.research.google.com/assets/colab-badge.svg\" alt=\"Open In Colab\"/></a>"
      ]
    },
    {
      "cell_type": "code",
      "execution_count": 1,
      "metadata": {
        "colab": {
          "base_uri": "https://localhost:8080/"
        },
        "id": "Wbue8gzZN99B",
        "outputId": "aaaefef4-e553-4a8e-e37e-5b87d8893298"
      },
      "outputs": [
        {
          "output_type": "stream",
          "name": "stdout",
          "text": [
            "True\n",
            "True\n",
            "False\n",
            "False\n"
          ]
        }
      ],
      "source": [
        "#084 알파벳 검사\n",
        "\n",
        "txt1 = 'A'\n",
        "txt2 = '안녕'\n",
        "txt3 = 'Hello World!'\n",
        "txt4 = '3PO'\n",
        "ret1 = txt1.isalpha()\n",
        "ret2 = txt2.isalpha()\n",
        "ret3 = txt3.isalpha()\n",
        "ret4 = txt4.isalpha()\n",
        "print(ret1)\n",
        "print(ret2)\n",
        "print(ret3)\n",
        "print(ret4)"
      ]
    },
    {
      "cell_type": "code",
      "source": [
        "#085 숫자 검사\n",
        "\n",
        "txt1 = '010-1234-5678'\n",
        "txt2 = 'R2D2'\n",
        "txt3 = '1212'\n",
        "ret1 = txt1.isdigit()\n",
        "ret2 = txt2.isdigit()\n",
        "ret3 = txt3.isdigit()\n",
        "print(ret1)\n",
        "print(ret2)\n",
        "print(ret3)"
      ],
      "metadata": {
        "colab": {
          "base_uri": "https://localhost:8080/"
        },
        "id": "WifFIu_kOOwO",
        "outputId": "6894f3ae-fa4b-4036-a912-6d04e75e6f98"
      },
      "execution_count": 3,
      "outputs": [
        {
          "output_type": "stream",
          "name": "stdout",
          "text": [
            "False\n",
            "False\n",
            "True\n"
          ]
        }
      ]
    }
  ]
}