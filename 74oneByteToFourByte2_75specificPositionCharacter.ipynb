{
  "nbformat": 4,
  "nbformat_minor": 0,
  "metadata": {
    "colab": {
      "provenance": [],
      "authorship_tag": "ABX9TyOSWJW6lz980QWFCajRWxP9",
      "include_colab_link": true
    },
    "kernelspec": {
      "name": "python3",
      "display_name": "Python 3"
    },
    "language_info": {
      "name": "python"
    }
  },
  "cells": [
    {
      "cell_type": "markdown",
      "metadata": {
        "id": "view-in-github",
        "colab_type": "text"
      },
      "source": [
        "<a href=\"https://colab.research.google.com/github/yu11009/Homework_2025/blob/main/74oneByteToFourByte2_75specificPositionCharacter.ipynb\" target=\"_parent\"><img src=\"https://colab.research.google.com/assets/colab-badge.svg\" alt=\"Open In Colab\"/></a>"
      ]
    },
    {
      "cell_type": "code",
      "execution_count": 2,
      "metadata": {
        "colab": {
          "base_uri": "https://localhost:8080/"
        },
        "id": "bA7nsbjyrhp8",
        "outputId": "8fe2b28c-b4f2-4877-9846-24125c9410fe"
      },
      "outputs": [
        {
          "output_type": "stream",
          "name": "stdout",
          "text": [
            "6\n"
          ]
        }
      ],
      "source": [
        "#074 1바이트에서 4바이트 - 2\n",
        "\n",
        "a = 107\n",
        "b = (a>>4) & 0x0f\n",
        "print(b)"
      ]
    },
    {
      "cell_type": "code",
      "source": [
        "#075 특정 위치의 문자\n",
        "\n",
        "txt1 = 'Hello Pythone'\n",
        "txt2 = '안녕 파이썬'\n",
        "print(txt1[3])\n",
        "print(txt2[-2])"
      ],
      "metadata": {
        "colab": {
          "base_uri": "https://localhost:8080/"
        },
        "id": "BZobqEUCrvGu",
        "outputId": "a4372a4b-a297-4989-afbe-e824176d201f"
      },
      "execution_count": 4,
      "outputs": [
        {
          "output_type": "stream",
          "name": "stdout",
          "text": [
            "l\n",
            "이\n"
          ]
        }
      ]
    }
  ]
}