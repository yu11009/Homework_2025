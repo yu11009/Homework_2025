{
  "nbformat": 4,
  "nbformat_minor": 0,
  "metadata": {
    "colab": {
      "provenance": [],
      "authorship_tag": "ABX9TyO7oS9VptTc3mbF+Zp7ycvD",
      "include_colab_link": true
    },
    "kernelspec": {
      "name": "python3",
      "display_name": "Python 3"
    },
    "language_info": {
      "name": "python"
    }
  },
  "cells": [
    {
      "cell_type": "markdown",
      "metadata": {
        "id": "view-in-github",
        "colab_type": "text"
      },
      "source": [
        "<a href=\"https://colab.research.google.com/github/yu11009/Homework_2025/blob/main/%2052classConstructor_53classRemover.ipynb\" target=\"_parent\"><img src=\"https://colab.research.google.com/assets/colab-badge.svg\" alt=\"Open In Colab\"/></a>"
      ]
    },
    {
      "cell_type": "code",
      "execution_count": 1,
      "metadata": {
        "colab": {
          "base_uri": "https://localhost:8080/"
        },
        "id": "kZwVjkBzkDiG",
        "outputId": "0af8120e-980e-4937-957a-2ddb7487e70b"
      },
      "outputs": [
        {
          "output_type": "stream",
          "name": "stdout",
          "text": [
            "MyClass 인스턴스 객체가 생성되었습니다\n",
            "안녕하세요!\n"
          ]
        }
      ],
      "source": [
        "#052 클래스 생성자\n",
        "\n",
        "class MyClass:\n",
        "  def __init__(self):\n",
        "    self.var = '안녕하세요!'\n",
        "    print('MyClass 인스턴스 객체가 생성되었습니다')\n",
        "\n",
        "obj = MyClass()\n",
        "print(obj.var)"
      ]
    },
    {
      "cell_type": "code",
      "source": [
        "#053 클래스 소멸자\n",
        "\n",
        "class MyClass:\n",
        "  def __del__(self):\n",
        "    print('MyClass 인스턴스 객체가 메모리에서 제거됩니다')\n",
        "\n",
        "obj = MyClass()\n",
        "del obj"
      ],
      "metadata": {
        "colab": {
          "base_uri": "https://localhost:8080/"
        },
        "id": "M9XsjSeBk47H",
        "outputId": "482ac46a-f5e7-4c63-8379-1c6a6eb34af7"
      },
      "execution_count": 3,
      "outputs": [
        {
          "output_type": "stream",
          "name": "stdout",
          "text": [
            "MyClass 인스턴스 객체가 메모리에서 제거됩니다\n"
          ]
        }
      ]
    }
  ]
}