{
  "nbformat": 4,
  "nbformat_minor": 0,
  "metadata": {
    "colab": {
      "provenance": [],
      "authorship_tag": "ABX9TyN44zQtq46mZau9/0RzCwfZ",
      "include_colab_link": true
    },
    "kernelspec": {
      "name": "python3",
      "display_name": "Python 3"
    },
    "language_info": {
      "name": "python"
    }
  },
  "cells": [
    {
      "cell_type": "markdown",
      "metadata": {
        "id": "view-in-github",
        "colab_type": "text"
      },
      "source": [
        "<a href=\"https://colab.research.google.com/github/yu11009/Homework_2025/blob/main/104evenExtraction_105listReverse.ipynb\" target=\"_parent\"><img src=\"https://colab.research.google.com/assets/colab-badge.svg\" alt=\"Open In Colab\"/></a>"
      ]
    },
    {
      "cell_type": "code",
      "execution_count": 1,
      "metadata": {
        "colab": {
          "base_uri": "https://localhost:8080/"
        },
        "id": "2qUdNjnOre8D",
        "outputId": "cd115c41-5c3f-4744-f8fd-c468a1eca836"
      },
      "outputs": [
        {
          "output_type": "stream",
          "name": "stdout",
          "text": [
            "[2, 4, 6, 8, 10, 12, 14, 16, 18, 20]\n"
          ]
        }
      ],
      "source": [
        "#104 짝수 요소만 추출\n",
        "\n",
        "ld = list(range(1,21))\n",
        "el = ld[1::2]\n",
        "print(el)"
      ]
    },
    {
      "cell_type": "code",
      "source": [
        "#105 리스트 역순1\n",
        "\n",
        "ld = list(range(5))\n",
        "ld.reverse()\n",
        "print(ld)"
      ],
      "metadata": {
        "colab": {
          "base_uri": "https://localhost:8080/"
        },
        "id": "H3tCcyhvrqV9",
        "outputId": "9c197323-0a9f-45a7-b6a5-5b8707b5958e"
      },
      "execution_count": 2,
      "outputs": [
        {
          "output_type": "stream",
          "name": "stdout",
          "text": [
            "[4, 3, 2, 1, 0]\n"
          ]
        }
      ]
    }
  ]
}