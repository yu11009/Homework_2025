{
  "nbformat": 4,
  "nbformat_minor": 0,
  "metadata": {
    "colab": {
      "provenance": [],
      "authorship_tag": "ABX9TyNxLKV0RhCz1S+LCKM+rDFi",
      "include_colab_link": true
    },
    "kernelspec": {
      "name": "python3",
      "display_name": "Python 3"
    },
    "language_info": {
      "name": "python"
    }
  },
  "cells": [
    {
      "cell_type": "markdown",
      "metadata": {
        "id": "view-in-github",
        "colab_type": "text"
      },
      "source": [
        "<a href=\"https://colab.research.google.com/github/yu11009/Homework_2025/blob/main/106listReverse2_107mergeList.ipynb\" target=\"_parent\"><img src=\"https://colab.research.google.com/assets/colab-badge.svg\" alt=\"Open In Colab\"/></a>"
      ]
    },
    {
      "cell_type": "code",
      "execution_count": 2,
      "metadata": {
        "colab": {
          "base_uri": "https://localhost:8080/"
        },
        "id": "DGsOTXk4sFtC",
        "outputId": "fe801468-4b4d-4028-bb12-e608eee1a416"
      },
      "outputs": [
        {
          "output_type": "stream",
          "name": "stdout",
          "text": [
            "원본[0, 1, 2, 3, 4]\n",
            "역순[4, 3, 2, 1, 0]\n",
            "슬라이싱 이용[4, 3, 2, 1, 0]\n"
          ]
        }
      ],
      "source": [
        "#106 리스트 역순2\n",
        "\n",
        "ld = list(range(5))\n",
        "ret1 = reversed(ld)\n",
        "print('원본',end=''); print(ld);\n",
        "print('역순',end=''); print(list(ret1));\n",
        "\n",
        "ret2 = ld[::-1]\n",
        "print('슬라이싱 이용',end=''); print(ret2)"
      ]
    },
    {
      "cell_type": "code",
      "source": [
        "#107 리스트 합치기\n",
        "\n",
        "ld1 = ['a', 'b', 'c', 'd', 'e']\n",
        "ld2 = ['f', 'g', 'h', 'i', 'j']\n",
        "ld3 = ld1 + ld2\n",
        "ld4 = ld2 + ld1\n",
        "print(ld3)\n",
        "print(ld4)"
      ],
      "metadata": {
        "colab": {
          "base_uri": "https://localhost:8080/"
        },
        "id": "5DQriNzgsoqO",
        "outputId": "45812408-315e-49e7-a523-36d1f9df26d9"
      },
      "execution_count": 3,
      "outputs": [
        {
          "output_type": "stream",
          "name": "stdout",
          "text": [
            "['a', 'b', 'c', 'd', 'e', 'f', 'g', 'h', 'i', 'j']\n",
            "['f', 'g', 'h', 'i', 'j', 'a', 'b', 'c', 'd', 'e']\n"
          ]
        }
      ]
    }
  ]
}