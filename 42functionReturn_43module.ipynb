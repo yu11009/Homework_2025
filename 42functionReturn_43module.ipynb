{
  "nbformat": 4,
  "nbformat_minor": 0,
  "metadata": {
    "colab": {
      "provenance": [],
      "authorship_tag": "ABX9TyOxrB2nF8cEL2BtUXpDlZx2",
      "include_colab_link": true
    },
    "kernelspec": {
      "name": "python3",
      "display_name": "Python 3"
    },
    "language_info": {
      "name": "python"
    }
  },
  "cells": [
    {
      "cell_type": "markdown",
      "metadata": {
        "id": "view-in-github",
        "colab_type": "text"
      },
      "source": [
        "<a href=\"https://colab.research.google.com/github/yu11009/Homework_2025/blob/main/42functionReturn_43module.ipynb\" target=\"_parent\"><img src=\"https://colab.research.google.com/assets/colab-badge.svg\" alt=\"Open In Colab\"/></a>"
      ]
    },
    {
      "cell_type": "code",
      "execution_count": null,
      "metadata": {
        "colab": {
          "base_uri": "https://localhost:8080/"
        },
        "id": "_q4GVby7TSQD",
        "outputId": "afd0f47e-0e4e-4a66-aae3-35cc2e8969e6"
      },
      "outputs": [
        {
          "output_type": "stream",
          "name": "stdout",
          "text": [
            "(3, 2, 1)\n",
            "c\n",
            "b\n",
            "a\n"
          ]
        }
      ],
      "source": [
        "#042 함수 리턴값\n",
        "\n",
        "def reverse(x, y, z):\n",
        "  return z, y, x\n",
        "\n",
        "ret = reverse(1, 2, 3)\n",
        "print(ret)\n",
        "\n",
        "r1, r2, r3 = reverse('a','b','c')\n",
        "print(r1)\n",
        "print(r2)\n",
        "print(r3)"
      ]
    },
    {
      "cell_type": "code",
      "source": [
        "#043 파이썬 모듈\n",
        "\n",
        "import time\n",
        "\n",
        "print('5초간 프로그램을 정지합니다.')\n",
        "time.sleep(5)\n",
        "print('5초가 지나갔습니다.') #5초 후 실행"
      ],
      "metadata": {
        "colab": {
          "base_uri": "https://localhost:8080/"
        },
        "id": "dw-dcnEET0Lm",
        "outputId": "95819dab-6d00-4002-a186-833e7f5d51c0"
      },
      "execution_count": null,
      "outputs": [
        {
          "output_type": "stream",
          "name": "stdout",
          "text": [
            "5초간 프로그램을 정지합니다.\n",
            "5초가 지나갔습니다.\n"
          ]
        }
      ]
    }
  ]
}