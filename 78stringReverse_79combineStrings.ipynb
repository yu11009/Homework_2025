{
  "nbformat": 4,
  "nbformat_minor": 0,
  "metadata": {
    "colab": {
      "provenance": [],
      "authorship_tag": "ABX9TyOXGFFktn+utEFcS/ErUgeB",
      "include_colab_link": true
    },
    "kernelspec": {
      "name": "python3",
      "display_name": "Python 3"
    },
    "language_info": {
      "name": "python"
    }
  },
  "cells": [
    {
      "cell_type": "markdown",
      "metadata": {
        "id": "view-in-github",
        "colab_type": "text"
      },
      "source": [
        "<a href=\"https://colab.research.google.com/github/yu11009/Homework_2025/blob/main/78stringReverse_79combineStrings.ipynb\" target=\"_parent\"><img src=\"https://colab.research.google.com/assets/colab-badge.svg\" alt=\"Open In Colab\"/></a>"
      ]
    },
    {
      "cell_type": "code",
      "execution_count": 3,
      "metadata": {
        "colab": {
          "base_uri": "https://localhost:8080/"
        },
        "id": "Ko7u2dQhk4NT",
        "outputId": "eac81400-1a73-4d63-98cf-f66b70c3b4df"
      },
      "outputs": [
        {
          "output_type": "stream",
          "name": "stdout",
          "text": [
            "kjihgfedcba\n"
          ]
        }
      ],
      "source": [
        "#078 문자열 거꾸로\n",
        "\n",
        "txt = 'abcdefghijk'\n",
        "ret = txt[::-1]\n",
        "print(ret)"
      ]
    },
    {
      "cell_type": "code",
      "source": [
        "#079 문자열 합치기\n",
        "\n",
        "name = input('저장할 파일 이름:')\n",
        "name = name + '.jpg'\n",
        "msg = '저장한 파일은 <' + name + '>입니다.'\n",
        "print(msg)"
      ],
      "metadata": {
        "colab": {
          "base_uri": "https://localhost:8080/"
        },
        "id": "pHm2Dc7Qk6fu",
        "outputId": "3c9ea6af-080d-47de-eb48-247db60e6aa6"
      },
      "execution_count": 2,
      "outputs": [
        {
          "output_type": "stream",
          "name": "stdout",
          "text": [
            "저장할 파일 이름:yu1109\n",
            "저장한 파일은 <yu1109.jpg>입니다.\n"
          ]
        }
      ]
    }
  ]
}