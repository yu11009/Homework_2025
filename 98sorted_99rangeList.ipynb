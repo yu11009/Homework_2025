{
  "nbformat": 4,
  "nbformat_minor": 0,
  "metadata": {
    "colab": {
      "provenance": [],
      "authorship_tag": "ABX9TyNhFWpOPJTqU+eMbgDt6zSc",
      "include_colab_link": true
    },
    "kernelspec": {
      "name": "python3",
      "display_name": "Python 3"
    },
    "language_info": {
      "name": "python"
    }
  },
  "cells": [
    {
      "cell_type": "markdown",
      "metadata": {
        "id": "view-in-github",
        "colab_type": "text"
      },
      "source": [
        "<a href=\"https://colab.research.google.com/github/yu11009/Homework_2025/blob/main/98sorted_99rangeList.ipynb\" target=\"_parent\"><img src=\"https://colab.research.google.com/assets/colab-badge.svg\" alt=\"Open In Colab\"/></a>"
      ]
    },
    {
      "cell_type": "code",
      "execution_count": 1,
      "metadata": {
        "colab": {
          "base_uri": "https://localhost:8080/"
        },
        "id": "y2pK-L-RRoIO",
        "outputId": "6d60e1d4-9213-48d7-e55d-414d002d53cf"
      },
      "outputs": [
        {
          "output_type": "stream",
          "name": "stdout",
          "text": [
            "문자열 입력: dkssudgktopdy\n",
            "['d', 'd', 'd', 'g', 'k', 'k', 'o', 'p', 's', 's', 't', 'u', 'y']\n",
            "['y', 'u', 't', 's', 's', 'p', 'o', 'k', 'k', 'g', 'd', 'd', 'd']\n",
            "오름차순 정렬:  dddgkkopsstuy\n",
            "내림차순 정렬:  yutsspokkgddd\n"
          ]
        }
      ],
      "source": [
        "#098 문자열 정렬\n",
        "\n",
        "strdata = input('문자열 입력: ')\n",
        "ret1 = sorted(strdata)\n",
        "ret2 = sorted(strdata, reverse=True)\n",
        "print(ret1)\n",
        "print(ret2)\n",
        "ret1 = ''.join(ret1)\n",
        "ret2 = ''.join(ret2)\n",
        "print('오름차순 정렬: ', ret1)\n",
        "print('내림차순 정렬: ', ret2)"
      ]
    },
    {
      "cell_type": "code",
      "source": [
        "#099 순차적 정수 리스트\n",
        "\n",
        "range1 = range(10)\n",
        "range2 = range(10, 20)\n",
        "print(list(range1))\n",
        "print(list(range2))"
      ],
      "metadata": {
        "colab": {
          "base_uri": "https://localhost:8080/"
        },
        "id": "dCy4LI-AR6iT",
        "outputId": "94b957a5-454b-4d88-d813-2cb0a2e09ea9"
      },
      "execution_count": 2,
      "outputs": [
        {
          "output_type": "stream",
          "name": "stdout",
          "text": [
            "[0, 1, 2, 3, 4, 5, 6, 7, 8, 9]\n",
            "[10, 11, 12, 13, 14, 15, 16, 17, 18, 19]\n"
          ]
        }
      ]
    }
  ]
}