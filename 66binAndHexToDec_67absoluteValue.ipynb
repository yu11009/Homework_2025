{
  "nbformat": 4,
  "nbformat_minor": 0,
  "metadata": {
    "colab": {
      "provenance": [],
      "authorship_tag": "ABX9TyOHiu8EqYQR2sbkKmK+GVos",
      "include_colab_link": true
    },
    "kernelspec": {
      "name": "python3",
      "display_name": "Python 3"
    },
    "language_info": {
      "name": "python"
    }
  },
  "cells": [
    {
      "cell_type": "markdown",
      "metadata": {
        "id": "view-in-github",
        "colab_type": "text"
      },
      "source": [
        "<a href=\"https://colab.research.google.com/github/yu11009/Homework_2025/blob/main/66binAndHexToDec_67absoluteValue.ipynb\" target=\"_parent\"><img src=\"https://colab.research.google.com/assets/colab-badge.svg\" alt=\"Open In Colab\"/></a>"
      ]
    },
    {
      "cell_type": "code",
      "execution_count": 7,
      "metadata": {
        "colab": {
          "base_uri": "https://localhost:8080/"
        },
        "id": "QAVcCYZdhyla",
        "outputId": "7c1ef03e-68cd-4cd0-c33e-ea1740ed9730"
      },
      "outputs": [
        {
          "output_type": "stream",
          "name": "stdout",
          "text": [
            "240\n",
            "240\n",
            "240\n",
            "240\n",
            "240\n",
            "240\n"
          ]
        }
      ],
      "source": [
        "#066 2진수, 16진수를 10진로 변환\n",
        "\n",
        "bn = 0b11110000; bs = '0b11110000'\n",
        "on = 0o360\n",
        "os = '0o360'\n",
        "hn = 0xf0; hs = '0xf0'\n",
        "b1 = int(bn); b2 = int(bs, 2)\n",
        "o1 = int(on); o2 = int(os, 8)\n",
        "h1 = int(hn); h2 = int(hs, 16)\n",
        "print(b1); print(b2)\n",
        "print(o1); print(o2)\n",
        "print(h1); print(h2)"
      ]
    },
    {
      "cell_type": "code",
      "source": [
        "#067 절대값\n",
        "\n",
        "abs1 = abs(-3)\n",
        "abs2 = abs(-5.72)\n",
        "abs3 = abs(3+4j)\n",
        "print(abs1)\n",
        "print(abs2)\n",
        "print(abs3)"
      ],
      "metadata": {
        "colab": {
          "base_uri": "https://localhost:8080/"
        },
        "id": "ogf24CYmiX6f",
        "outputId": "a92d9542-8d72-4760-b083-2f5767d8048b"
      },
      "execution_count": 8,
      "outputs": [
        {
          "output_type": "stream",
          "name": "stdout",
          "text": [
            "3\n",
            "5.72\n",
            "5.0\n"
          ]
        }
      ]
    }
  ]
}