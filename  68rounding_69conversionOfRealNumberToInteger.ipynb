{
  "nbformat": 4,
  "nbformat_minor": 0,
  "metadata": {
    "colab": {
      "provenance": [],
      "authorship_tag": "ABX9TyPSoR5ld7MnMsH3XMtS7Npi",
      "include_colab_link": true
    },
    "kernelspec": {
      "name": "python3",
      "display_name": "Python 3"
    },
    "language_info": {
      "name": "python"
    }
  },
  "cells": [
    {
      "cell_type": "markdown",
      "metadata": {
        "id": "view-in-github",
        "colab_type": "text"
      },
      "source": [
        "<a href=\"https://colab.research.google.com/github/yu11009/Homework_2025/blob/main/%2068rounding_69conversionOfRealNumberToInteger.ipynb\" target=\"_parent\"><img src=\"https://colab.research.google.com/assets/colab-badge.svg\" alt=\"Open In Colab\"/></a>"
      ]
    },
    {
      "cell_type": "code",
      "execution_count": 2,
      "metadata": {
        "colab": {
          "base_uri": "https://localhost:8080/"
        },
        "id": "txge08PakBFb",
        "outputId": "79165dff-bac9-49b3-e5ad-e18e50768bc9"
      },
      "outputs": [
        {
          "output_type": "stream",
          "name": "stdout",
          "text": [
            "3\n",
            "6\n",
            "4\n"
          ]
        }
      ],
      "source": [
        "#068 반올림\n",
        "\n",
        "round1 = round(3.14)\n",
        "round2 = round(5.72)\n",
        "round3 = round(3.5)\n",
        "print(round1)\n",
        "print(round2)\n",
        "print(round3)"
      ]
    },
    {
      "cell_type": "code",
      "metadata": {
        "colab": {
          "base_uri": "https://localhost:8080/"
        },
        "id": "9f3e3091",
        "outputId": "9172a762-94f1-46a9-f505-cc3b9f288331"
      },
      "source": [
        "#069 실수형을 정수형으로 변환\n",
        "\n",
        "id1 = int(-5.4)\n",
        "id2 = int(1.78)\n",
        "id3 = int(3.9)\n",
        "print(id1)\n",
        "print(id2)\n",
        "print(id3)"
      ],
      "execution_count": 1,
      "outputs": [
        {
          "output_type": "stream",
          "name": "stdout",
          "text": [
            "-5\n",
            "1\n",
            "3\n"
          ]
        }
      ]
    }
  ]
}