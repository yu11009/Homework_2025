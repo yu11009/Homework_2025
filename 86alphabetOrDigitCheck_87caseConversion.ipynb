{
  "nbformat": 4,
  "nbformat_minor": 0,
  "metadata": {
    "colab": {
      "provenance": [],
      "authorship_tag": "ABX9TyOECAWmMKqtwE7e4CYBiUL0",
      "include_colab_link": true
    },
    "kernelspec": {
      "name": "python3",
      "display_name": "Python 3"
    },
    "language_info": {
      "name": "python"
    }
  },
  "cells": [
    {
      "cell_type": "markdown",
      "metadata": {
        "id": "view-in-github",
        "colab_type": "text"
      },
      "source": [
        "<a href=\"https://colab.research.google.com/github/yu11009/Homework_2025/blob/main/86alphabetOrDigitCheck_87caseConversion.ipynb\" target=\"_parent\"><img src=\"https://colab.research.google.com/assets/colab-badge.svg\" alt=\"Open In Colab\"/></a>"
      ]
    },
    {
      "cell_type": "code",
      "execution_count": 1,
      "metadata": {
        "colab": {
          "base_uri": "https://localhost:8080/"
        },
        "id": "fqLBxWQnO0bc",
        "outputId": "eaf85be4-0439-4b52-eca9-4cc7eda9c64a"
      },
      "outputs": [
        {
          "output_type": "stream",
          "name": "stdout",
          "text": [
            "False\n",
            "False\n",
            "True\n"
          ]
        }
      ],
      "source": [
        "#086 알파벳 또는 숫자 검사\n",
        "\n",
        "txt1 = '안녕하세요?'\n",
        "txt2 = '1. Title-제목을 입력하세요'\n",
        "txt3 = '3피오R2D2'\n",
        "ret1 = txt1.isalnum()\n",
        "ret2 = txt2.isalnum()\n",
        "ret3 = txt3.isalnum()\n",
        "print(ret1)\n",
        "print(ret2)\n",
        "print(ret3)"
      ]
    },
    {
      "cell_type": "code",
      "source": [
        "#087 대소문자 변환\n",
        "\n",
        "txt = 'A lot of Things occur each day.'\n",
        "ret1 = txt.upper()\n",
        "ret2 = txt.lower()\n",
        "print(ret1)\n",
        "print(ret2)"
      ],
      "metadata": {
        "colab": {
          "base_uri": "https://localhost:8080/"
        },
        "id": "dAp3MqUCPM2F",
        "outputId": "7e088063-b677-479c-ad74-8e5e1c7ace6d"
      },
      "execution_count": 2,
      "outputs": [
        {
          "output_type": "stream",
          "name": "stdout",
          "text": [
            "A LOT OF THINGS OCCUR EACH DAY.\n",
            "a lot of things occur each day.\n"
          ]
        }
      ]
    }
  ]
}