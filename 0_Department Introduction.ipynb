{
  "nbformat": 4,
  "nbformat_minor": 0,
  "metadata": {
    "colab": {
      "provenance": [],
      "authorship_tag": "ABX9TyOmltU1mk6Vo9Epmes2QVb3",
      "include_colab_link": true
    },
    "kernelspec": {
      "name": "python3",
      "display_name": "Python 3"
    },
    "language_info": {
      "name": "python"
    }
  },
  "cells": [
    {
      "cell_type": "markdown",
      "metadata": {
        "id": "view-in-github",
        "colab_type": "text"
      },
      "source": [
        "<a href=\"https://colab.research.google.com/github/yu11009/Homework_2025/blob/main/0_Department%20Introduction.ipynb\" target=\"_parent\"><img src=\"https://colab.research.google.com/assets/colab-badge.svg\" alt=\"Open In Colab\"/></a>"
      ]
    },
    {
      "cell_type": "markdown",
      "source": [
        "#**💻✒️🎥멀티미디어공학과 소개**\n",
        "\n",
        "## **1. 학과 소개**\n",
        "- ### 멀티미디어공학과는 <font color = 'orange'>\"IT기술과 예술의 만남\"</font>이라는 모토로 혁신적인 기술을 아름답게 구현하여 인간에게 유익한 정보와 가치를 제공하는 것을 목표로 공학, 미디어영상학, 콘텐츠 디자인학이 융합하여 이루어진 복합적, 미래 지향적 학과입니다.\n",
        "- ### 👉[공식 홈페이지 바로가기](http://multi.hannam.ac.kr/main/)\n",
        "\n",
        "## **2. 교육과정**\n",
        "| # | 분야 | 내용 |\n",
        "| :--: | :--: | :--: |\n",
        "| 1 | 멀티미디어 CG(컴퓨터그래픽) | 영상 편집 |\n",
        "| 2 | 차세대 멀티미디어콘텐츠(UCC 콘텐츠 제작 크리에이터) | 게임 알고리즘, 안드로이드 게임 설계, 게임 프로그래밍 |\n",
        "| 3 | 게임기획, 설계 및 프로그래 | 내용 |\n",
        "| 4 | 모바일 안드로이드 애플리케이션 기획 및 제작 | 내용 |\n",
        "| 5 | 멀티미디어통신 기술 | 내용 |\n",
        "| 6 | 웹 서비스 및 정보보안 | 내용 |\n"
      ],
      "metadata": {
        "id": "byiugdRdcWiL"
      }
    }
  ]
}