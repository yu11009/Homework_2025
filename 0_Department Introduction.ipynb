{
  "nbformat": 4,
  "nbformat_minor": 0,
  "metadata": {
    "colab": {
      "provenance": [],
      "include_colab_link": true
    },
    "kernelspec": {
      "name": "python3",
      "display_name": "Python 3"
    },
    "language_info": {
      "name": "python"
    }
  },
  "cells": [
    {
      "cell_type": "markdown",
      "metadata": {
        "id": "view-in-github",
        "colab_type": "text"
      },
      "source": [
        "<a href=\"https://colab.research.google.com/github/yu11009/Homework_2025/blob/main/0_Department%20Introduction.ipynb\" target=\"_parent\"><img src=\"https://colab.research.google.com/assets/colab-badge.svg\" alt=\"Open In Colab\"/></a>"
      ]
    },
    {
      "cell_type": "markdown",
      "source": [
        "#**💻✒️🎥멀티미디어공학과 소개**\n",
        "\n",
        "## **1. 학과 소개**\n",
        "- ### 멀티미디어공학과는 <font color = 'orange'>\"IT기술과 예술의 만남\"</font>이라는 모토로 혁신적인 기술을 아름답게 구현하여 인간에게 유익한 정보와 가치를 제공하는 것을 목표로 공학, 미디어영상학, 콘텐츠 디자인학이 융합하여 이루어진 복합적, 미래 지향적 학과입니다.\n",
        "- ### 👉[공식 홈페이지 바로가기](http://multi.hannam.ac.kr/main/)\n",
        "\n",
        "## **2. 교육과정**\n",
        "| # | 분야 | 내용 |\n",
        "| :--: | :--: | :--: |\n",
        "| 1 | 멀티미디어 CG💻 | 컴퓨터그래픽, 2D,3D디지털콘텐츠 |\n",
        "| 2 | 차세대 멀티미디어콘텐츠🎥 | 시나리오기획, 연상편집디자인 |\n",
        "| 3 | 게임기획, 설계 및 프로그래 | 게임 알고리즘, 게임 설계, 게임 프로그래밍 |\n",
        "| 4 | 모바일 안드로이드 애플리케이션 기획 및 제작 | 애플리케이션 기획 및 제작, 서비스 고도화 |\n",
        "| 5 | 멀티미디어통신 기술 | 멀티미디어통신 신기술 |\n",
        "| 6 | 웹 서비스 및 정보보안 | 데이터 저장, 처리, 웹 서비스 제작 |\n",
        "\n",
        "### **교육과정의 특색**\n",
        "1. 산학연관 협력 프로젝트\n",
        "2. 프로젝트형 교육 프로그램\n",
        "3. 기술세미나 및 실무 워크숍 프로그램\n",
        "\n",
        "\n",
        "## **3. 교육비젼**\n",
        "- ### 최첨단 IT 기기에서 사용되는 **<font color = 'red'>멀티미디어 콘텐츠 제작 능력과 창의적 디자인 발상, 그리고 국제적인 감각의 업무능력을 갖춘 현장실무형</font>** 전문인력 양성을 교육목표로 합니다.\n",
        "\n",
        "### 창의적 개발 능력을 갖춘 전문인력양성\n",
        "#### 창의적 발상을 공학적 기술로 연계하는 전문가적 개발 능력을 배양하기 위해 다음과 같은 교육체계를 운영합니다.\n",
        "\n",
        "- 이론과 실습을 병행하는 체계적인 구도로 차별화된 교육체계 운영\n",
        "- 창의적 개발 능력 증진을 위해 실습 및 프로젝트 수행 중심의 교육체계 운영\n",
        "- 글로벌 경쟁시대에 대비하여 최신 기술 발전에 따른 맞춤식 교육체계 운영\n",
        "- 창의적 능력을 발휘할 수 있는 동아리 활동 지원 및 실습실 운영\n",
        "\n",
        "## **4. 멀티미디어공확과 TMI**"
      ],
      "metadata": {
        "id": "byiugdRdcWiL"
      }
    }
  ]
}