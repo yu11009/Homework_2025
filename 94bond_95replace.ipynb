{
  "nbformat": 4,
  "nbformat_minor": 0,
  "metadata": {
    "colab": {
      "provenance": [],
      "authorship_tag": "ABX9TyNzeyzeQBGP64fhrt+4t4b6",
      "include_colab_link": true
    },
    "kernelspec": {
      "name": "python3",
      "display_name": "Python 3"
    },
    "language_info": {
      "name": "python"
    }
  },
  "cells": [
    {
      "cell_type": "markdown",
      "metadata": {
        "id": "view-in-github",
        "colab_type": "text"
      },
      "source": [
        "<a href=\"https://colab.research.google.com/github/yu11009/Homework_2025/blob/main/94bond_95replace.ipynb\" target=\"_parent\"><img src=\"https://colab.research.google.com/assets/colab-badge.svg\" alt=\"Open In Colab\"/></a>"
      ]
    },
    {
      "cell_type": "code",
      "execution_count": 1,
      "metadata": {
        "colab": {
          "base_uri": "https://localhost:8080/"
        },
        "id": "zsKu3jUM6TbO",
        "outputId": "4e6ac71f-8bc6-4f68-ad80-0d32da74e3c2"
      },
      "outputs": [
        {
          "output_type": "stream",
          "name": "stdout",
          "text": [
            "2025/10/24 10:12,200,OK,이 또한 지나가리라\n"
          ]
        }
      ],
      "source": [
        "#094 특정 문자로 결합\n",
        "\n",
        "loglost = ['2025/10/24 10:12', '200', 'OK', '이 또한 지나가리라']\n",
        "bond = ','\n",
        "log = bond.join(loglost)\n",
        "print(log)"
      ]
    },
    {
      "cell_type": "code",
      "source": [
        "#095 특정 문자를 다른 문자로 바꾸기\n",
        "\n",
        "txt = 'My password is 1234'\n",
        "ret1 = txt.replace('1', '0')\n",
        "ret2 = txt.replace('1', 'python')\n",
        "print(ret1)\n",
        "print(ret2)\n",
        "\n",
        "txt = '매일 많은 일들이 일어납니다.'\n",
        "ret3 = txt.replace('매일', '항상')\n",
        "ret4 = ret3.replace('일', '사건')\n",
        "print(ret3)\n",
        "print(ret4)\n"
      ],
      "metadata": {
        "colab": {
          "base_uri": "https://localhost:8080/"
        },
        "id": "HM8qx50g63oj",
        "outputId": "55bbaeb7-ce5f-4ae8-dca9-94f5d5ef6883"
      },
      "execution_count": 2,
      "outputs": [
        {
          "output_type": "stream",
          "name": "stdout",
          "text": [
            "My password is 0234\n",
            "My password is python234\n",
            "항상 많은 일들이 일어납니다.\n",
            "항상 많은 사건들이 사건어납니다.\n"
          ]
        }
      ]
    }
  ]
}