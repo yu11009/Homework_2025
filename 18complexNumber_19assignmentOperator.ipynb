{
  "nbformat": 4,
  "nbformat_minor": 0,
  "metadata": {
    "colab": {
      "provenance": [],
      "authorship_tag": "ABX9TyO65G5ASs/KQIGtG6mYN9xm",
      "include_colab_link": true
    },
    "kernelspec": {
      "name": "python3",
      "display_name": "Python 3"
    },
    "language_info": {
      "name": "python"
    }
  },
  "cells": [
    {
      "cell_type": "markdown",
      "metadata": {
        "id": "view-in-github",
        "colab_type": "text"
      },
      "source": [
        "<a href=\"https://colab.research.google.com/github/yu11009/Homework_2025/blob/main/18complexNumber_19assignmentOperator.ipynb\" target=\"_parent\"><img src=\"https://colab.research.google.com/assets/colab-badge.svg\" alt=\"Open In Colab\"/></a>"
      ]
    },
    {
      "cell_type": "code",
      "execution_count": 3,
      "metadata": {
        "colab": {
          "base_uri": "https://localhost:8080/"
        },
        "id": "1BEVWfuEtkk2",
        "outputId": "a17539c9-cded-4a16-a7dd-501145b1ebc2"
      },
      "outputs": [
        {
          "output_type": "stream",
          "name": "stdout",
          "text": [
            "1.0\n",
            "7.0\n",
            "(2-3j)\n"
          ]
        }
      ],
      "source": [
        "#018 복소수형 자료\n",
        "\n",
        "c1 = 1+7j\n",
        "print(c1.real); print(c1.imag)\n",
        "c2 = complex(2, -3)\n",
        "print(c2)"
      ]
    },
    {
      "cell_type": "code",
      "source": [
        "#019 대입 연산자\n",
        "\n",
        "a = 1\n",
        "b = 2\n",
        "ret = a+b\n",
        "print('a와 b를 더한 값은 ', end=\"\")\n",
        "print(ret, end=\"\")\n",
        "print('입니다.')"
      ],
      "metadata": {
        "colab": {
          "base_uri": "https://localhost:8080/"
        },
        "id": "Re6E7RbCuM5x",
        "outputId": "18b2f561-bd65-40a4-f0f7-9d5c52a0c37d"
      },
      "execution_count": 4,
      "outputs": [
        {
          "output_type": "stream",
          "name": "stdout",
          "text": [
            "a와 b를 더한 값은 3입니다.\n"
          ]
        }
      ]
    }
  ]
}