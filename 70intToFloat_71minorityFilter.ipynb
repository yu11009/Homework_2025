{
  "nbformat": 4,
  "nbformat_minor": 0,
  "metadata": {
    "colab": {
      "provenance": [],
      "authorship_tag": "ABX9TyNFPsfp9MEqd7PMQUaJHd9l",
      "include_colab_link": true
    },
    "kernelspec": {
      "name": "python3",
      "display_name": "Python 3"
    },
    "language_info": {
      "name": "python"
    }
  },
  "cells": [
    {
      "cell_type": "markdown",
      "metadata": {
        "id": "view-in-github",
        "colab_type": "text"
      },
      "source": [
        "<a href=\"https://colab.research.google.com/github/yu11009/Homework_2025/blob/main/70intToFloat_71minorityFilter.ipynb\" target=\"_parent\"><img src=\"https://colab.research.google.com/assets/colab-badge.svg\" alt=\"Open In Colab\"/></a>"
      ]
    },
    {
      "cell_type": "code",
      "execution_count": 1,
      "metadata": {
        "colab": {
          "base_uri": "https://localhost:8080/"
        },
        "id": "6cIIzP1zmKBB",
        "outputId": "322993f0-5ebe-4225-afa7-885d63ba4c07"
      },
      "outputs": [
        {
          "output_type": "stream",
          "name": "stdout",
          "text": [
            "10.0\n"
          ]
        }
      ],
      "source": [
        "#070 정수형을 실수형으로 변환\n",
        "\n",
        "f = float(10)\n",
        "print(f)"
      ]
    },
    {
      "cell_type": "code",
      "source": [
        "#정수 리스트에서 소수만 걸러내기\n",
        "\n",
        "def getPrime(x):\n",
        "  for i in range(2, x-1):\n",
        "    if x % i == 0:\n",
        "      break\n",
        "  else:\n",
        "    return x\n",
        "\n",
        "listdata = [117, 119, 1113, 11113, 11119]\n",
        "ret = filter(getPrime, listdata)\n",
        "print(list(ret))"
      ],
      "metadata": {
        "colab": {
          "base_uri": "https://localhost:8080/"
        },
        "id": "0MSj9qGtmSWh",
        "outputId": "5551064a-8d7f-4cb9-a004-faf5370895b0"
      },
      "execution_count": 2,
      "outputs": [
        {
          "output_type": "stream",
          "name": "stdout",
          "text": [
            "[11113, 11119]\n"
          ]
        }
      ]
    }
  ]
}