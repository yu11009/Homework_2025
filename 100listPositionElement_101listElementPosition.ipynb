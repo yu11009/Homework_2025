{
  "nbformat": 4,
  "nbformat_minor": 0,
  "metadata": {
    "colab": {
      "provenance": [],
      "authorship_tag": "ABX9TyMUzPPYR/ayHr2c3ISMgJwR",
      "include_colab_link": true
    },
    "kernelspec": {
      "name": "python3",
      "display_name": "Python 3"
    },
    "language_info": {
      "name": "python"
    }
  },
  "cells": [
    {
      "cell_type": "markdown",
      "metadata": {
        "id": "view-in-github",
        "colab_type": "text"
      },
      "source": [
        "<a href=\"https://colab.research.google.com/github/yu11009/Homework_2025/blob/main/100listPositionElement_101listElementPosition.ipynb\" target=\"_parent\"><img src=\"https://colab.research.google.com/assets/colab-badge.svg\" alt=\"Open In Colab\"/></a>"
      ]
    },
    {
      "cell_type": "code",
      "execution_count": 1,
      "metadata": {
        "colab": {
          "base_uri": "https://localhost:8080/"
        },
        "id": "WJqgzZ9xSp6H",
        "outputId": "42b42e97-e58f-4571-bb3f-d1bcb40d69e9"
      },
      "outputs": [
        {
          "output_type": "stream",
          "name": "stdout",
          "text": [
            "2\n",
            "b\n",
            "5\n"
          ]
        }
      ],
      "source": [
        "#100 리스트 특정 위치 요소\n",
        "\n",
        "listdata = [1, 2, 'a', 'b', 'c', [4, 5, 6]]\n",
        "val1 = listdata[1]\n",
        "val2 = listdata[3]\n",
        "val3 = listdata[5][1]\n",
        "print(val1)\n",
        "print(val2)\n",
        "print(val3)"
      ]
    },
    {
      "cell_type": "code",
      "source": [
        "#101 리스트 특정 요소 위치\n",
        "\n",
        "solarsys = ['태양', '수성', '금성', '목성', '지구', '화성', '토성']\n",
        "planet = '지구'\n",
        "pos = solarsys.index(planet)\n",
        "print(pos)\n",
        "pos = solarsys.index(planet, 1)\n",
        "print(pos)"
      ],
      "metadata": {
        "colab": {
          "base_uri": "https://localhost:8080/"
        },
        "id": "z3DO-sPpS_hy",
        "outputId": "f1a17960-b1e9-425e-8984-b6c02505d979"
      },
      "execution_count": 6,
      "outputs": [
        {
          "output_type": "stream",
          "name": "stdout",
          "text": [
            "4\n",
            "4\n"
          ]
        }
      ]
    }
  ]
}