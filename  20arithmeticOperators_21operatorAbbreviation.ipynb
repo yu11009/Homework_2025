{
  "nbformat": 4,
  "nbformat_minor": 0,
  "metadata": {
    "colab": {
      "provenance": [],
      "authorship_tag": "ABX9TyNJEdKzd6fMkiJBY4SO+k8l",
      "include_colab_link": true
    },
    "kernelspec": {
      "name": "python3",
      "display_name": "Python 3"
    },
    "language_info": {
      "name": "python"
    }
  },
  "cells": [
    {
      "cell_type": "markdown",
      "metadata": {
        "id": "view-in-github",
        "colab_type": "text"
      },
      "source": [
        "<a href=\"https://colab.research.google.com/github/yu11009/Homework_2025/blob/main/%2020arithmeticOperators_21operatorAbbreviation.ipynb\" target=\"_parent\"><img src=\"https://colab.research.google.com/assets/colab-badge.svg\" alt=\"Open In Colab\"/></a>"
      ]
    },
    {
      "cell_type": "code",
      "execution_count": 1,
      "metadata": {
        "colab": {
          "base_uri": "https://localhost:8080/"
        },
        "id": "lOjbPG1OvEZr",
        "outputId": "79509d0a-c3e6-4b1d-e6f5-f7fc3dd112b6"
      },
      "outputs": [
        {
          "output_type": "stream",
          "name": "stdout",
          "text": [
            "6 -2 8 0.5 16 6.0 -12 64\n"
          ]
        }
      ],
      "source": [
        "#020 사칙 연산자\n",
        "\n",
        "a = 2\n",
        "b = 4\n",
        "ret1 = a+b\n",
        "ret2 = a-b\n",
        "ret3 = a*b\n",
        "ret4 = a/b\n",
        "ret5 = a**b\n",
        "ret6 = a+a*b/a\n",
        "ret7 = (a+b)*(a-b)\n",
        "ret8 = a*b*a*b\n",
        "print(ret1,ret2,ret3,ret4, ret5, ret6, ret7, ret8)"
      ]
    },
    {
      "cell_type": "code",
      "source": [
        "#021 연산자 축약\n",
        "\n",
        "a = 0\n",
        "print(a)\n",
        "a += 1\n",
        "print(a)\n",
        "a -= 1\n",
        "print(a)\n",
        "a *= 2\n",
        "print(a)\n",
        "a /= 4\n",
        "print(a)\n",
        "a = a+1\n",
        "print(a)"
      ],
      "metadata": {
        "colab": {
          "base_uri": "https://localhost:8080/"
        },
        "id": "HDNQ1SlYvHEW",
        "outputId": "18d3150a-135a-471d-c896-e2ded6e33f11"
      },
      "execution_count": 3,
      "outputs": [
        {
          "output_type": "stream",
          "name": "stdout",
          "text": [
            "0\n",
            "1\n",
            "0\n",
            "0\n",
            "0.0\n",
            "1.0\n"
          ]
        }
      ]
    }
  ]
}