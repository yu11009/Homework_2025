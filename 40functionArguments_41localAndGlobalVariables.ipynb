{
  "nbformat": 4,
  "nbformat_minor": 0,
  "metadata": {
    "colab": {
      "provenance": [],
      "authorship_tag": "ABX9TyOegqOCBZibKH2OnRvmN7eH",
      "include_colab_link": true
    },
    "kernelspec": {
      "name": "python3",
      "display_name": "Python 3"
    },
    "language_info": {
      "name": "python"
    }
  },
  "cells": [
    {
      "cell_type": "markdown",
      "metadata": {
        "id": "view-in-github",
        "colab_type": "text"
      },
      "source": [
        "<a href=\"https://colab.research.google.com/github/yu11009/Homework_2025/blob/main/40functionArguments_41localAndGlobalVariables.ipynb\" target=\"_parent\"><img src=\"https://colab.research.google.com/assets/colab-badge.svg\" alt=\"Open In Colab\"/></a>"
      ]
    },
    {
      "cell_type": "code",
      "execution_count": 1,
      "metadata": {
        "colab": {
          "base_uri": "https://localhost:8080/"
        },
        "id": "SvfspbDTalbF",
        "outputId": "a4202d24-558b-4394-c425-470b08a19e76"
      },
      "outputs": [
        {
          "output_type": "stream",
          "name": "stdout",
          "text": [
            "World! : Hello\n",
            "Good : Python\n"
          ]
        }
      ],
      "source": [
        "#040 함수 인자\n",
        "\n",
        "def add_txt(t1, t2='Hello'):\n",
        "  print(t1+' : '+t2)\n",
        "\n",
        "add_txt('World!')\n",
        "add_txt(t2='Python', t1='Good')\n",
        "\n",
        "def func1(*args):\n",
        "  print(args)\n",
        "\n",
        "def func2(width, height, **kwargs):\n",
        "  print(kwargs)\n",
        "\n",
        "  func1()\n",
        "  func1(3,5,1,5)\n",
        "  func2(10, 20)\n",
        "  func2(10, 20, depth=50,color='blue')"
      ]
    },
    {
      "cell_type": "code",
      "source": [
        "#041 지역변수와 전역변수\n",
        "\n",
        "param = 10\n",
        "strdata = '전역변수'\n",
        "\n",
        "def func1():\n",
        "  strdata = '지역변수'\n",
        "  print(strdata)\n",
        "\n",
        "def func2(param):\n",
        "  param = 1\n",
        "\n",
        "def func3():\n",
        "  global param\n",
        "  param = 50\n",
        "\n",
        "func1()\n",
        "print(strdata)\n",
        "print(param)\n",
        "\n",
        "func2(param)\n",
        "print(param)\n",
        "\n",
        "func3()\n",
        "print(param)"
      ],
      "metadata": {
        "colab": {
          "base_uri": "https://localhost:8080/"
        },
        "id": "WfiQPzlhcJf9",
        "outputId": "1f186831-6668-4c24-8db3-b396e06c1aee"
      },
      "execution_count": 2,
      "outputs": [
        {
          "output_type": "stream",
          "name": "stdout",
          "text": [
            "지역변수\n",
            "전역변수\n",
            "10\n",
            "10\n",
            "50\n"
          ]
        }
      ]
    }
  ]
}