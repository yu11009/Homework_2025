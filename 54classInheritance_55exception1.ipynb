{
  "nbformat": 4,
  "nbformat_minor": 0,
  "metadata": {
    "colab": {
      "provenance": [],
      "authorship_tag": "ABX9TyOoqvmjtS0bpN/S5KEoE5Ub",
      "include_colab_link": true
    },
    "kernelspec": {
      "name": "python3",
      "display_name": "Python 3"
    },
    "language_info": {
      "name": "python"
    }
  },
  "cells": [
    {
      "cell_type": "markdown",
      "metadata": {
        "id": "view-in-github",
        "colab_type": "text"
      },
      "source": [
        "<a href=\"https://colab.research.google.com/github/yu11009/Homework_2025/blob/main/54classInheritance_55exception1.ipynb\" target=\"_parent\"><img src=\"https://colab.research.google.com/assets/colab-badge.svg\" alt=\"Open In Colab\"/></a>"
      ]
    },
    {
      "cell_type": "code",
      "execution_count": 2,
      "metadata": {
        "colab": {
          "base_uri": "https://localhost:8080/"
        },
        "id": "FNj6pN-pl6U_",
        "outputId": "69ee45b7-5e64-46b7-e303-811a83c7a419"
      },
      "outputs": [
        {
          "output_type": "stream",
          "name": "stdout",
          "text": [
            "30\n",
            "-10\n"
          ]
        }
      ],
      "source": [
        "#054 클래스 상속\n",
        "\n",
        "class Add:\n",
        "  def add(self, n1, n2):\n",
        "    return n1+n2\n",
        "\n",
        "class Calculator(Add):\n",
        "  def sub(self, n1, n2):\n",
        "    return n1-n2\n",
        "\n",
        "cal = Calculator()\n",
        "print(cal.add(10,20))\n",
        "print(cal.sub(10,20))"
      ]
    },
    {
      "cell_type": "code",
      "source": [
        "#055 예외처리 이해하기1\n",
        "\n",
        "try:\n",
        "  print('안녕하세요')\n",
        "  print(param)\n",
        "except:\n",
        "  print('예외가 발생했습니다!')"
      ],
      "metadata": {
        "colab": {
          "base_uri": "https://localhost:8080/"
        },
        "id": "xGZZ8GEumckD",
        "outputId": "ec81cc3b-598c-4ce8-fcfa-34c3c0b09362"
      },
      "execution_count": 1,
      "outputs": [
        {
          "output_type": "stream",
          "name": "stdout",
          "text": [
            "안녕하세요\n",
            "예외가 발생했습니다!\n"
          ]
        }
      ]
    }
  ]
}