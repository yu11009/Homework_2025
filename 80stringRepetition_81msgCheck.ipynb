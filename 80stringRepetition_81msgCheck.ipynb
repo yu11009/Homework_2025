{
  "nbformat": 4,
  "nbformat_minor": 0,
  "metadata": {
    "colab": {
      "provenance": [],
      "authorship_tag": "ABX9TyOYfNK2a+zXGJyzimBjt98Y",
      "include_colab_link": true
    },
    "kernelspec": {
      "name": "python3",
      "display_name": "Python 3"
    },
    "language_info": {
      "name": "python"
    }
  },
  "cells": [
    {
      "cell_type": "markdown",
      "metadata": {
        "id": "view-in-github",
        "colab_type": "text"
      },
      "source": [
        "<a href=\"https://colab.research.google.com/github/yu11009/Homework_2025/blob/main/80stringRepetition_81msgCheck.ipynb\" target=\"_parent\"><img src=\"https://colab.research.google.com/assets/colab-badge.svg\" alt=\"Open In Colab\"/></a>"
      ]
    },
    {
      "cell_type": "code",
      "execution_count": 1,
      "metadata": {
        "colab": {
          "base_uri": "https://localhost:8080/"
        },
        "id": "L6UE0aYq3OQq",
        "outputId": "9fc25326-c60c-4e41-ef25-2477f5b31bdd"
      },
      "outputs": [
        {
          "output_type": "stream",
          "name": "stdout",
          "text": [
            "여러분,화이팅화이팅화이팅~!\n"
          ]
        }
      ],
      "source": [
        "#080 문자열 반복\n",
        "\n",
        "msg1 = '여러분'\n",
        "msg2 = '화이팅'\n",
        "dp_msg = msg1 + ',' + msg2*3 + '~!'\n",
        "print(dp_msg)"
      ]
    },
    {
      "cell_type": "code",
      "source": [
        "#081 문자 체크\n",
        "msg = input(\"임의의 문장 입력 : \")\n",
        "if 'a' in msg:\n",
        "  print('입력한 문장에는 a가 있습니다.')\n",
        "else:\n",
        "  print('입력한 문장에는 a가 없습니다.')"
      ],
      "metadata": {
        "colab": {
          "base_uri": "https://localhost:8080/"
        },
        "id": "S2Ztxr_-3lkJ",
        "outputId": "57f13505-6671-4d9f-d643-8d9dab6586b4"
      },
      "execution_count": 2,
      "outputs": [
        {
          "output_type": "stream",
          "name": "stdout",
          "text": [
            "임의의 문장 입력 : adsaqws\n",
            "입력한 문장에는 a가 있습니다.\n"
          ]
        }
      ]
    }
  ]
}