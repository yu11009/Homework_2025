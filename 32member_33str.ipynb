{
  "nbformat": 4,
  "nbformat_minor": 0,
  "metadata": {
    "colab": {
      "provenance": [],
      "include_colab_link": true
    },
    "kernelspec": {
      "name": "python3",
      "display_name": "Python 3"
    },
    "language_info": {
      "name": "python"
    }
  },
  "cells": [
    {
      "cell_type": "markdown",
      "metadata": {
        "id": "view-in-github",
        "colab_type": "text"
      },
      "source": [
        "<a href=\"https://colab.research.google.com/github/yu11009/Homework_2025/blob/main/32member_33str.ipynb\" target=\"_parent\"><img src=\"https://colab.research.google.com/assets/colab-badge.svg\" alt=\"Open In Colab\"/></a>"
      ]
    },
    {
      "cell_type": "code",
      "execution_count": null,
      "metadata": {
        "colab": {
          "base_uri": "https://localhost:8080/"
        },
        "id": "Ydg94t47Ro9F",
        "outputId": "c1f20a7e-e26d-4542-a141-ba490838a9b6"
      },
      "outputs": [
        {
          "output_type": "stream",
          "name": "stdout",
          "text": [
            "False\n",
            "True\n",
            "True\n",
            "False\n"
          ]
        }
      ],
      "source": [
        "#032 멤버체크\n",
        "\n",
        "listdata = [1,2,3,4]\n",
        "ret1 = 5 in listdata\n",
        "ret2 = 4 in listdata\n",
        "print(ret1)\n",
        "print(ret2)\n",
        "\n",
        "\n",
        "strdata = \"Hello\"\n",
        "ret3 = \"H\" in strdata\n",
        "ret4 = \"h\" in strdata\n",
        "print(ret3)\n",
        "print(ret4)"
      ]
    },
    {
      "cell_type": "code",
      "source": [
        "#033 문자열\n",
        "\n",
        "strdata1 = 'Hello World!'\n",
        "strdata2 = \"I love Python\"\n",
        "strdata3 = \"\"\"Hello World!\n",
        "I love Python\"\"\"\n",
        "strdata4 = '''Hello World!\n",
        "I love Python'''\n",
        "print(strdata1)\n",
        "print(strdata2)\n",
        "print(strdata3)\n",
        "print(strdata4)\n"
      ],
      "metadata": {
        "colab": {
          "base_uri": "https://localhost:8080/"
        },
        "id": "IjdnodD6R7ph",
        "outputId": "81bcd788-b024-4607-a58c-1659c1f478ff"
      },
      "execution_count": null,
      "outputs": [
        {
          "output_type": "stream",
          "name": "stdout",
          "text": [
            "Hello World!\n",
            "I love Python\n",
            "Hello World!\n",
            "I love Python\n",
            "Hello World!\n",
            "I love Python\n"
          ]
        }
      ]
    }
  ]
}