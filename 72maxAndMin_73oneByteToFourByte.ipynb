{
  "nbformat": 4,
  "nbformat_minor": 0,
  "metadata": {
    "colab": {
      "provenance": [],
      "authorship_tag": "ABX9TyNx1As45JXqz0myKXdaeqWR",
      "include_colab_link": true
    },
    "kernelspec": {
      "name": "python3",
      "display_name": "Python 3"
    },
    "language_info": {
      "name": "python"
    }
  },
  "cells": [
    {
      "cell_type": "markdown",
      "metadata": {
        "id": "view-in-github",
        "colab_type": "text"
      },
      "source": [
        "<a href=\"https://colab.research.google.com/github/yu11009/Homework_2025/blob/main/72maxAndMin_73oneByteToFourByte.ipynb\" target=\"_parent\"><img src=\"https://colab.research.google.com/assets/colab-badge.svg\" alt=\"Open In Colab\"/></a>"
      ]
    },
    {
      "cell_type": "code",
      "execution_count": 6,
      "metadata": {
        "colab": {
          "base_uri": "https://localhost:8080/",
          "height": 221
        },
        "id": "YWUx4Rzvnjbp",
        "outputId": "e05a7aee-d598-4694-8a2c-75fa3f3f6ad9"
      },
      "outputs": [
        {
          "output_type": "error",
          "ename": "TypeError",
          "evalue": "'float' object is not callable",
          "traceback": [
            "\u001b[0;31m---------------------------------------------------------------------------\u001b[0m",
            "\u001b[0;31mTypeError\u001b[0m                                 Traceback (most recent call last)",
            "\u001b[0;32m/tmp/ipython-input-1565338652.py\u001b[0m in \u001b[0;36m<cell line: 0>\u001b[0;34m()\u001b[0m\n\u001b[1;32m      2\u001b[0m \u001b[0;34m\u001b[0m\u001b[0m\n\u001b[1;32m      3\u001b[0m \u001b[0mlist\u001b[0m \u001b[0;34m=\u001b[0m \u001b[0;34m[\u001b[0m\u001b[0;36m9.96\u001b[0m\u001b[0;34m,\u001b[0m \u001b[0;36m1.32\u001b[0m\u001b[0;34m,\u001b[0m \u001b[0;36m5.23\u001b[0m\u001b[0;34m,\u001b[0m \u001b[0;36m6.32\u001b[0m\u001b[0;34m,\u001b[0m \u001b[0;36m6.68\u001b[0m\u001b[0;34m,\u001b[0m \u001b[0;36m8.43\u001b[0m\u001b[0;34m,\u001b[0m \u001b[0;36m9.23\u001b[0m\u001b[0;34m,\u001b[0m \u001b[0;36m4.84\u001b[0m\u001b[0;34m,\u001b[0m \u001b[0;36m7.74\u001b[0m\u001b[0;34m,\u001b[0m \u001b[0;36m3.94\u001b[0m\u001b[0;34m,\u001b[0m \u001b[0;36m0.32\u001b[0m\u001b[0;34m]\u001b[0m\u001b[0;34m\u001b[0m\u001b[0;34m\u001b[0m\u001b[0m\n\u001b[0;32m----> 4\u001b[0;31m \u001b[0mmax1\u001b[0m \u001b[0;34m=\u001b[0m \u001b[0mmax\u001b[0m\u001b[0;34m(\u001b[0m\u001b[0mlist\u001b[0m\u001b[0;34m)\u001b[0m\u001b[0;34m\u001b[0m\u001b[0;34m\u001b[0m\u001b[0m\n\u001b[0m\u001b[1;32m      5\u001b[0m \u001b[0mmin1\u001b[0m \u001b[0;34m=\u001b[0m \u001b[0mmin\u001b[0m\u001b[0;34m(\u001b[0m\u001b[0mlist\u001b[0m\u001b[0;34m)\u001b[0m\u001b[0;34m\u001b[0m\u001b[0;34m\u001b[0m\u001b[0m\n\u001b[1;32m      6\u001b[0m \u001b[0mprint\u001b[0m\u001b[0;34m(\u001b[0m\u001b[0mmax1\u001b[0m\u001b[0;34m)\u001b[0m\u001b[0;34m\u001b[0m\u001b[0;34m\u001b[0m\u001b[0m\n",
            "\u001b[0;31mTypeError\u001b[0m: 'float' object is not callable"
          ]
        }
      ],
      "source": [
        "#72최대값, 최소값\n",
        "\n",
        "list = [9.96, 1.32, 5.23, 6.32, 6.68, 8.43, 9.23, 4.84, 7.74, 3.94, 0.32]\n",
        "max1 = max(list)\n",
        "min1 = min(list)\n",
        "print(max1)\n",
        "print(min1)\n",
        "\n",
        "txt = 'qwertyuiopasdfghjklzxcvbnm'\n",
        "max1 = max(txt)\n",
        "min1 = min(txt)\n",
        "print(max1)\n",
        "print(min1)\n",
        "\n",
        "max1 = max(2+3, 2*3, 2**3, 3**2)\n",
        "min1 = min('abz', 'a12')\n",
        "print(max1)\n",
        "print(min1)"
      ]
    },
    {
      "cell_type": "code",
      "source": [
        "#073 1바이트에서 4바이트\n",
        "\n",
        "a = 107\n",
        "b = a & 0x0f\n",
        "print(b)"
      ],
      "metadata": {
        "colab": {
          "base_uri": "https://localhost:8080/"
        },
        "id": "IEowraVAqu9d",
        "outputId": "d823be39-7967-4856-c042-ce428933fc9d"
      },
      "execution_count": 8,
      "outputs": [
        {
          "output_type": "stream",
          "name": "stdout",
          "text": [
            "11\n"
          ]
        }
      ]
    }
  ]
}