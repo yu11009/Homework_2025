{
  "nbformat": 4,
  "nbformat_minor": 0,
  "metadata": {
    "colab": {
      "provenance": [],
      "authorship_tag": "ABX9TyPRuQQumIiTNjv3SJGnEyEv",
      "include_colab_link": true
    },
    "kernelspec": {
      "name": "python3",
      "display_name": "Python 3"
    },
    "language_info": {
      "name": "python"
    }
  },
  "cells": [
    {
      "cell_type": "markdown",
      "metadata": {
        "id": "view-in-github",
        "colab_type": "text"
      },
      "source": [
        "<a href=\"https://colab.research.google.com/github/yu11009/Homework_2025/blob/main/44package_45moduleImport1.ipynb\" target=\"_parent\"><img src=\"https://colab.research.google.com/assets/colab-badge.svg\" alt=\"Open In Colab\"/></a>"
      ]
    },
    {
      "cell_type": "code",
      "execution_count": null,
      "metadata": {
        "id": "9Sli7AMWUdak"
      },
      "outputs": [],
      "source": [
        "#044 파이썬 패키지\n",
        "\n",
        "import mypackage\n",
        "\n",
        "ret1 = mypackage.mylib.add_txt('대한민국', '1등')\n",
        "ret2 = mypackage.mylib.reverse(1,2,3)\n",
        "\n",
        "#mylib의 파일의 add_txt, reverse의 함수를 실행시킴\n",
        "#여긴 파일이 없어서 실행은 안됨"
      ]
    },
    {
      "cell_type": "code",
      "source": [
        "#045 파이썬 모듈 임포트1\n",
        "\n",
        "import time\n",
        "import mylib\n",
        "import mypackage.mylib\n",
        "\n",
        "time.sleep(1)\n",
        "mylib.add_txt('대한민국', '1등')\n",
        "mypackage.mylib.reverse(1,2,3)\n",
        "\n",
        "#여긴 파일이 없어서 실행은 안됨"
      ],
      "metadata": {
        "id": "aXC8PPPJVU-W"
      },
      "execution_count": null,
      "outputs": []
    }
  ]
}