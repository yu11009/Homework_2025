{
  "nbformat": 4,
  "nbformat_minor": 0,
  "metadata": {
    "colab": {
      "provenance": [],
      "authorship_tag": "ABX9TyPni5JKJwePZDZlk6IIJ9ZA",
      "include_colab_link": true
    },
    "kernelspec": {
      "name": "python3",
      "display_name": "Python 3"
    },
    "language_info": {
      "name": "python"
    }
  },
  "cells": [
    {
      "cell_type": "markdown",
      "metadata": {
        "id": "view-in-github",
        "colab_type": "text"
      },
      "source": [
        "<a href=\"https://colab.research.google.com/github/yu11009/Homework_2025/blob/main/46moduleImport2_47moduleImport3.ipynb\" target=\"_parent\"><img src=\"https://colab.research.google.com/assets/colab-badge.svg\" alt=\"Open In Colab\"/></a>"
      ]
    },
    {
      "cell_type": "code",
      "execution_count": null,
      "metadata": {
        "id": "uns3H9cSWF7a"
      },
      "outputs": [],
      "source": [
        "#046 파이썬 모듈 임포트2\n",
        "\n",
        "from time import sleep\n",
        "from mypackage import mylib\n",
        "from mypackage.mylib import reverse\n",
        "\n",
        "sleep(1)\n",
        "mylib.add.txt('나는', '파이썬이다')\n",
        "reverse(1,2,3)\n",
        "\n",
        "#여긴 파일이 없어 함수 호출 불가"
      ]
    },
    {
      "cell_type": "code",
      "source": [
        "#046 파이썬 모듈 임포트3\n",
        "\n",
        "import mypackage as mp #mypackage를 mp로 축약\n",
        "import mypackage.mylib as ml #mypackage.mylib를 ml로 축약\n",
        "\n",
        "ret1 = mp.mylib.add.txt('나는', '파이썬이다')\n",
        "ret2 = ml.reverse(1,2,3)\n",
        "\n",
        "print(ret1)\n",
        "print(ret2)\n",
        "\n",
        "#여긴 파일이 없어 함수 호출 불가"
      ],
      "metadata": {
        "id": "TznHeF5AWoRL"
      },
      "execution_count": null,
      "outputs": []
    }
  ]
}